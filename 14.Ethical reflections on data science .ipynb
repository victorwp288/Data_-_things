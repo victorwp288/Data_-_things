{
 "cells": [
  {
   "cell_type": "markdown",
   "id": "28aa1c27-098d-4d9a-8bc7-fb8b18622a8a",
   "metadata": {},
   "source": [
    "# Ethical reflections on data science "
   ]
  },
  {
   "cell_type": "code",
   "execution_count": 1,
   "id": "7f730679-0c7a-482a-8988-473fe3eaf408",
   "metadata": {},
   "outputs": [],
   "source": [
    "import pandas as pd\n",
    "import numpy as np\n",
    "import matplotlib.pyplot as plt\n",
    "import seaborn as sns\n",
    "\n",
    "from sklearn.model_selection import train_test_split"
   ]
  },
  {
   "cell_type": "markdown",
   "id": "617225f5-aa08-4b00-b158-d1da4b52f649",
   "metadata": {},
   "source": [
    "## Exercise 1\n",
    "\n",
    "For this exercise, we will use the `adult` dataset (available on moodle or from the [UCI Machine Learning repository](https://archive.ics.uci.edu/dataset/2/adult)). Do the following:\n",
    "\n",
    "1. Load in the dataset and correct the error in the income column (replace the \".\" with the empty string such that there are only two categories).\n",
    "2. Create an X dataset using the variables \"age\", \"workclass\", \"education\", \"occupation\", \"race\", \"sex\", \"hours-per-week\". For the categorical variables with missing values, replace the missing values with a new category \"Unknown\". Also replace any values that are \"?\" with the value \"Unknown (using `str.replace`, for instance)\n",
    "3. Turn the five categorical variables in X into dummy variables and remove the original five variables (This will probably give you around 44 columns in X)\n",
    "4. Create the response variable y, such that it is 1 if the `income` variable in the adult dataset is `>50K` and 0 if the value is `<=50K`.\n",
    "5. Do a train-test split with 30% of the data for test (using `random_state=123`) and train a `XGBoost` classification model on the training data.\n",
    "6. Evaluate your models using various evaluation metrics and look at the confusion matrix of your model.\n",
    "7. To be able to calculate the various fairness metrics in regard to the variable `sex`, we need to construct two separate confusion matrices for the test dataset, one for `female` and one for `male`. First, create separate test sets for `female` and `male` as well as the predicted values for each gender. That is, create `X_test_female`, `X_test_male`, `y_test_female`, `y_test_male`, `y_pred_female`, and `y_pred_male`. (Hint: You can create `X_test_female` by `X_test_female = X_test[X_test[\"sex_Male\"] == 0]` and `y_test_male` by `y_test_male = y_test[X_test[\"sex_Male\"] == 1]`, for instance.)\n",
    "8. Calculate the accuracy for female and male for the XGBoost model and comment on the results.\n",
    "9. We can now create the True Positive (TP), True Negative (TN), False Positive (FP), and False Negative (FN) for each gender. That is, calculate the eight values `TP_f`, `TN_f`, `FP_f`, `FN_f`, `TP_m`, `TN_m`, `FP_m`, and `FN_m`. (Hint: You can calculate the False Positive for female (FP_f) by `FP_f = sum((y_test_female == 0) & (y_pred_female == 1))`.)\n",
    "10. Is there error rate balance across different genders, i.e. are the false positive rate (FPR) and false negative rate (FNR) the same across the two genders?\n",
    "11. Is there predictive parity across different genders?\n",
    "12. Is there Statistical parity across different genders?\n",
    "13. [Discussion question] Can your any of your models be used to make fair salary predictions?\n",
    "14. [Discussion question] In what sense is the `adult` dataset biased (unfair)?\n",
    "15. [Discussion question] If the dataset is biased, where could the bias potentially come from?\n",
    "16. [Optional] If you balance the number of males and females in the dataset (like we balanced the response variable in the Churn example), will you model become more fair?"
   ]
  },
  {
   "cell_type": "code",
   "execution_count": 45,
   "id": "7b37c437-a661-494f-b655-dbef1d77b0b3",
   "metadata": {},
   "outputs": [],
   "source": [
    "df = pd.read_csv('adult.csv')"
   ]
  },
  {
   "cell_type": "code",
   "execution_count": 46,
   "id": "7fce80bd",
   "metadata": {},
   "outputs": [],
   "source": [
    "df['income'] = df['income'].str.replace('.','')"
   ]
  },
  {
   "cell_type": "code",
   "execution_count": 48,
   "id": "751d32f4",
   "metadata": {},
   "outputs": [],
   "source": [
    "inc=df.groupby('income')['age'].mean()"
   ]
  },
  {
   "cell_type": "code",
   "execution_count": 49,
   "id": "8074378b",
   "metadata": {},
   "outputs": [
    {
     "data": {
      "text/plain": [
       "income\n",
       "<=50K    36.872184\n",
       ">50K     44.275178\n",
       "Name: age, dtype: float64"
      ]
     },
     "execution_count": 49,
     "metadata": {},
     "output_type": "execute_result"
    }
   ],
   "source": [
    "inc"
   ]
  },
  {
   "cell_type": "markdown",
   "id": "b8a982e6",
   "metadata": {},
   "source": [
    "2. Create an X dataset using the variables \"age\", \"workclass\", \"education\", \"occupation\", \"race\", \"sex\", \"hours-per-week\". For the categorical variables with missing values, replace the missing values with a new category \"Unknown\". Also replace any values that are \"?\" with the value \"Unknown (using `str.replace`, for instance)\n"
   ]
  },
  {
   "cell_type": "code",
   "execution_count": 13,
   "id": "ec53c932",
   "metadata": {},
   "outputs": [],
   "source": [
    "X=df[[\"age\", \"workclass\", \"education\", \"occupation\", \"race\", \"sex\", \"hours-per-week\"]]"
   ]
  },
  {
   "cell_type": "code",
   "execution_count": 14,
   "id": "954e18c8",
   "metadata": {},
   "outputs": [
    {
     "name": "stdout",
     "output_type": "stream",
     "text": [
      "<class 'pandas.core.frame.DataFrame'>\n",
      "RangeIndex: 48842 entries, 0 to 48841\n",
      "Data columns (total 7 columns):\n",
      " #   Column          Non-Null Count  Dtype \n",
      "---  ------          --------------  ----- \n",
      " 0   age             48842 non-null  int64 \n",
      " 1   workclass       47879 non-null  object\n",
      " 2   education       48842 non-null  object\n",
      " 3   occupation      47876 non-null  object\n",
      " 4   race            48842 non-null  object\n",
      " 5   sex             48842 non-null  object\n",
      " 6   hours-per-week  48842 non-null  int64 \n",
      "dtypes: int64(2), object(5)\n",
      "memory usage: 2.6+ MB\n"
     ]
    }
   ],
   "source": [
    "X.info()"
   ]
  },
  {
   "cell_type": "code",
   "execution_count": null,
   "id": "d6953e7c",
   "metadata": {},
   "outputs": [],
   "source": [
    "X=X.replace(np.nan,'Unknown')"
   ]
  },
  {
   "cell_type": "code",
   "execution_count": null,
   "id": "dec4a6c5",
   "metadata": {},
   "outputs": [],
   "source": [
    "X['occupation'] = X['occupation'].str.replace('?','Unknown')\n",
    "X['workclass'] = X['workclass'].str.replace('?','Unknown')"
   ]
  },
  {
   "cell_type": "code",
   "execution_count": 19,
   "id": "8372e119",
   "metadata": {},
   "outputs": [
    {
     "name": "stdout",
     "output_type": "stream",
     "text": [
      "<class 'pandas.core.frame.DataFrame'>\n",
      "RangeIndex: 48842 entries, 0 to 48841\n",
      "Data columns (total 7 columns):\n",
      " #   Column          Non-Null Count  Dtype \n",
      "---  ------          --------------  ----- \n",
      " 0   age             48842 non-null  int64 \n",
      " 1   workclass       48842 non-null  object\n",
      " 2   education       48842 non-null  object\n",
      " 3   occupation      48842 non-null  object\n",
      " 4   race            48842 non-null  object\n",
      " 5   sex             48842 non-null  object\n",
      " 6   hours-per-week  48842 non-null  int64 \n",
      "dtypes: int64(2), object(5)\n",
      "memory usage: 2.6+ MB\n"
     ]
    }
   ],
   "source": [
    "X.info()"
   ]
  },
  {
   "cell_type": "code",
   "execution_count": 30,
   "id": "a7c932a8",
   "metadata": {},
   "outputs": [
    {
     "data": {
      "text/plain": [
       "array(['Adm-clerical', 'Exec-managerial', 'Handlers-cleaners',\n",
       "       'Prof-specialty', 'Other-service', 'Sales', 'Craft-repair',\n",
       "       'Transport-moving', 'Farming-fishing', 'Machine-op-inspct',\n",
       "       'Tech-support', 'Unknown', 'Protective-serv', 'Armed-Forces',\n",
       "       'Priv-house-serv'], dtype=object)"
      ]
     },
     "execution_count": 30,
     "metadata": {},
     "output_type": "execute_result"
    }
   ],
   "source": [
    "X['occupation'].unique()"
   ]
  },
  {
   "cell_type": "code",
   "execution_count": 32,
   "id": "553dec6f",
   "metadata": {},
   "outputs": [
    {
     "data": {
      "text/plain": [
       "array(['State-gov', 'Self-emp-not-inc', 'Private', 'Federal-gov',\n",
       "       'Local-gov', 'Unknown', 'Self-emp-inc', 'Without-pay',\n",
       "       'Never-worked'], dtype=object)"
      ]
     },
     "execution_count": 32,
     "metadata": {},
     "output_type": "execute_result"
    }
   ],
   "source": [
    "X['workclass'].unique()"
   ]
  },
  {
   "cell_type": "markdown",
   "id": "da2949f4",
   "metadata": {},
   "source": [
    "3. Turn the five categorical variables in X into dummy variables and remove the original five variables (This will probably give you around 44 columns in X)"
   ]
  },
  {
   "cell_type": "code",
   "execution_count": 33,
   "id": "7c73521c",
   "metadata": {},
   "outputs": [
    {
     "data": {
      "text/plain": [
       "['workclass', 'education', 'occupation', 'race', 'sex']"
      ]
     },
     "execution_count": 33,
     "metadata": {},
     "output_type": "execute_result"
    }
   ],
   "source": [
    "cols = X.select_dtypes(include=['object']).columns.tolist()\n",
    "cols"
   ]
  },
  {
   "cell_type": "code",
   "execution_count": 38,
   "id": "d77a3b14",
   "metadata": {},
   "outputs": [],
   "source": [
    "X_dummy=X.copy()\n",
    "for col in cols:\n",
    "    X_dummy = X_dummy.join(pd.get_dummies(X_dummy[col],prefix=col+'_',drop_first=True, dtype = \"int\"))\n",
    "    X_dummy=X_dummy.drop(col, axis=1)"
   ]
  },
  {
   "cell_type": "code",
   "execution_count": 39,
   "id": "1fec3a98",
   "metadata": {},
   "outputs": [
    {
     "name": "stdout",
     "output_type": "stream",
     "text": [
      "<class 'pandas.core.frame.DataFrame'>\n",
      "RangeIndex: 48842 entries, 0 to 48841\n",
      "Data columns (total 44 columns):\n",
      " #   Column                         Non-Null Count  Dtype\n",
      "---  ------                         --------------  -----\n",
      " 0   age                            48842 non-null  int64\n",
      " 1   hours-per-week                 48842 non-null  int64\n",
      " 2   workclass__Local-gov           48842 non-null  int64\n",
      " 3   workclass__Never-worked        48842 non-null  int64\n",
      " 4   workclass__Private             48842 non-null  int64\n",
      " 5   workclass__Self-emp-inc        48842 non-null  int64\n",
      " 6   workclass__Self-emp-not-inc    48842 non-null  int64\n",
      " 7   workclass__State-gov           48842 non-null  int64\n",
      " 8   workclass__Unknown             48842 non-null  int64\n",
      " 9   workclass__Without-pay         48842 non-null  int64\n",
      " 10  education__11th                48842 non-null  int64\n",
      " 11  education__12th                48842 non-null  int64\n",
      " 12  education__1st-4th             48842 non-null  int64\n",
      " 13  education__5th-6th             48842 non-null  int64\n",
      " 14  education__7th-8th             48842 non-null  int64\n",
      " 15  education__9th                 48842 non-null  int64\n",
      " 16  education__Assoc-acdm          48842 non-null  int64\n",
      " 17  education__Assoc-voc           48842 non-null  int64\n",
      " 18  education__Bachelors           48842 non-null  int64\n",
      " 19  education__Doctorate           48842 non-null  int64\n",
      " 20  education__HS-grad             48842 non-null  int64\n",
      " 21  education__Masters             48842 non-null  int64\n",
      " 22  education__Preschool           48842 non-null  int64\n",
      " 23  education__Prof-school         48842 non-null  int64\n",
      " 24  education__Some-college        48842 non-null  int64\n",
      " 25  occupation__Armed-Forces       48842 non-null  int64\n",
      " 26  occupation__Craft-repair       48842 non-null  int64\n",
      " 27  occupation__Exec-managerial    48842 non-null  int64\n",
      " 28  occupation__Farming-fishing    48842 non-null  int64\n",
      " 29  occupation__Handlers-cleaners  48842 non-null  int64\n",
      " 30  occupation__Machine-op-inspct  48842 non-null  int64\n",
      " 31  occupation__Other-service      48842 non-null  int64\n",
      " 32  occupation__Priv-house-serv    48842 non-null  int64\n",
      " 33  occupation__Prof-specialty     48842 non-null  int64\n",
      " 34  occupation__Protective-serv    48842 non-null  int64\n",
      " 35  occupation__Sales              48842 non-null  int64\n",
      " 36  occupation__Tech-support       48842 non-null  int64\n",
      " 37  occupation__Transport-moving   48842 non-null  int64\n",
      " 38  occupation__Unknown            48842 non-null  int64\n",
      " 39  race__Asian-Pac-Islander       48842 non-null  int64\n",
      " 40  race__Black                    48842 non-null  int64\n",
      " 41  race__Other                    48842 non-null  int64\n",
      " 42  race__White                    48842 non-null  int64\n",
      " 43  sex__Male                      48842 non-null  int64\n",
      "dtypes: int64(44)\n",
      "memory usage: 16.4 MB\n"
     ]
    }
   ],
   "source": [
    "X_dummy.info()"
   ]
  },
  {
   "cell_type": "markdown",
   "id": "27f77b8e",
   "metadata": {},
   "source": [
    "4. Create the response variable y, such that it is 1 if the `income` variable in the adult dataset is `>50K` and 0 if the value is `<=50K`."
   ]
  },
  {
   "cell_type": "code",
   "execution_count": null,
   "id": "0dde47b2",
   "metadata": {},
   "outputs": [
    {
     "name": "stderr",
     "output_type": "stream",
     "text": [
      "C:\\Users\\ronys\\AppData\\Local\\Temp\\ipykernel_23468\\2715254483.py:1: FutureWarning: A value is trying to be set on a copy of a DataFrame or Series through chained assignment using an inplace method.\n",
      "The behavior will change in pandas 3.0. This inplace method will never work because the intermediate object on which we are setting values always behaves as a copy.\n",
      "\n",
      "For example, when doing 'df[col].method(value, inplace=True)', try using 'df.method({col: value}, inplace=True)' or df[col] = df[col].method(value) instead, to perform the operation inplace on the original object.\n",
      "\n",
      "\n",
      "  y=df['income'].replace({'<=50K':0, '>50K': 1}, inplace=True)\n",
      "C:\\Users\\ronys\\AppData\\Local\\Temp\\ipykernel_23468\\2715254483.py:1: FutureWarning: Downcasting behavior in `replace` is deprecated and will be removed in a future version. To retain the old behavior, explicitly call `result.infer_objects(copy=False)`. To opt-in to the future behavior, set `pd.set_option('future.no_silent_downcasting', True)`\n",
      "  y=df['income'].replace({'<=50K':0, '>50K': 1}, inplace=True)\n"
     ]
    }
   ],
   "source": [
    "df['income'].replace({'<=50K':0, '>50K': 1}, inplace=True)"
   ]
  },
  {
   "cell_type": "code",
   "execution_count": 63,
   "id": "e6287d87",
   "metadata": {},
   "outputs": [],
   "source": [
    "y=df['income'].copy()"
   ]
  },
  {
   "cell_type": "code",
   "execution_count": 64,
   "id": "09d7f905",
   "metadata": {},
   "outputs": [
    {
     "data": {
      "text/plain": [
       "0        0\n",
       "1        0\n",
       "2        0\n",
       "3        0\n",
       "4        0\n",
       "        ..\n",
       "48837    0\n",
       "48838    0\n",
       "48839    0\n",
       "48840    0\n",
       "48841    1\n",
       "Name: income, Length: 48842, dtype: int64"
      ]
     },
     "execution_count": 64,
     "metadata": {},
     "output_type": "execute_result"
    }
   ],
   "source": [
    "y"
   ]
  },
  {
   "cell_type": "markdown",
   "id": "cee6d541",
   "metadata": {},
   "source": [
    "5. Do a train-test split with 30% of the data for test (using `random_state=123`) and train a `XGBoost` classification model on the training data."
   ]
  },
  {
   "cell_type": "code",
   "execution_count": 82,
   "id": "432146c7",
   "metadata": {},
   "outputs": [],
   "source": [
    "import xgboost as xgb\n",
    "from sklearn.metrics import confusion_matrix, accuracy_score, precision_score, recall_score, f1_score,matthews_corrcoef,ConfusionMatrixDisplay"
   ]
  },
  {
   "cell_type": "code",
   "execution_count": 77,
   "id": "8d1644d4",
   "metadata": {},
   "outputs": [],
   "source": [
    "X_train, X_test, y_train, y_test = train_test_split(X_dummy, y, test_size=0.3, random_state=123)"
   ]
  },
  {
   "cell_type": "code",
   "execution_count": 79,
   "id": "76558542",
   "metadata": {},
   "outputs": [
    {
     "data": {
      "text/html": [
       "<style>#sk-container-id-3 {\n",
       "  /* Definition of color scheme common for light and dark mode */\n",
       "  --sklearn-color-text: #000;\n",
       "  --sklearn-color-text-muted: #666;\n",
       "  --sklearn-color-line: gray;\n",
       "  /* Definition of color scheme for unfitted estimators */\n",
       "  --sklearn-color-unfitted-level-0: #fff5e6;\n",
       "  --sklearn-color-unfitted-level-1: #f6e4d2;\n",
       "  --sklearn-color-unfitted-level-2: #ffe0b3;\n",
       "  --sklearn-color-unfitted-level-3: chocolate;\n",
       "  /* Definition of color scheme for fitted estimators */\n",
       "  --sklearn-color-fitted-level-0: #f0f8ff;\n",
       "  --sklearn-color-fitted-level-1: #d4ebff;\n",
       "  --sklearn-color-fitted-level-2: #b3dbfd;\n",
       "  --sklearn-color-fitted-level-3: cornflowerblue;\n",
       "\n",
       "  /* Specific color for light theme */\n",
       "  --sklearn-color-text-on-default-background: var(--sg-text-color, var(--theme-code-foreground, var(--jp-content-font-color1, black)));\n",
       "  --sklearn-color-background: var(--sg-background-color, var(--theme-background, var(--jp-layout-color0, white)));\n",
       "  --sklearn-color-border-box: var(--sg-text-color, var(--theme-code-foreground, var(--jp-content-font-color1, black)));\n",
       "  --sklearn-color-icon: #696969;\n",
       "\n",
       "  @media (prefers-color-scheme: dark) {\n",
       "    /* Redefinition of color scheme for dark theme */\n",
       "    --sklearn-color-text-on-default-background: var(--sg-text-color, var(--theme-code-foreground, var(--jp-content-font-color1, white)));\n",
       "    --sklearn-color-background: var(--sg-background-color, var(--theme-background, var(--jp-layout-color0, #111)));\n",
       "    --sklearn-color-border-box: var(--sg-text-color, var(--theme-code-foreground, var(--jp-content-font-color1, white)));\n",
       "    --sklearn-color-icon: #878787;\n",
       "  }\n",
       "}\n",
       "\n",
       "#sk-container-id-3 {\n",
       "  color: var(--sklearn-color-text);\n",
       "}\n",
       "\n",
       "#sk-container-id-3 pre {\n",
       "  padding: 0;\n",
       "}\n",
       "\n",
       "#sk-container-id-3 input.sk-hidden--visually {\n",
       "  border: 0;\n",
       "  clip: rect(1px 1px 1px 1px);\n",
       "  clip: rect(1px, 1px, 1px, 1px);\n",
       "  height: 1px;\n",
       "  margin: -1px;\n",
       "  overflow: hidden;\n",
       "  padding: 0;\n",
       "  position: absolute;\n",
       "  width: 1px;\n",
       "}\n",
       "\n",
       "#sk-container-id-3 div.sk-dashed-wrapped {\n",
       "  border: 1px dashed var(--sklearn-color-line);\n",
       "  margin: 0 0.4em 0.5em 0.4em;\n",
       "  box-sizing: border-box;\n",
       "  padding-bottom: 0.4em;\n",
       "  background-color: var(--sklearn-color-background);\n",
       "}\n",
       "\n",
       "#sk-container-id-3 div.sk-container {\n",
       "  /* jupyter's `normalize.less` sets `[hidden] { display: none; }`\n",
       "     but bootstrap.min.css set `[hidden] { display: none !important; }`\n",
       "     so we also need the `!important` here to be able to override the\n",
       "     default hidden behavior on the sphinx rendered scikit-learn.org.\n",
       "     See: https://github.com/scikit-learn/scikit-learn/issues/21755 */\n",
       "  display: inline-block !important;\n",
       "  position: relative;\n",
       "}\n",
       "\n",
       "#sk-container-id-3 div.sk-text-repr-fallback {\n",
       "  display: none;\n",
       "}\n",
       "\n",
       "div.sk-parallel-item,\n",
       "div.sk-serial,\n",
       "div.sk-item {\n",
       "  /* draw centered vertical line to link estimators */\n",
       "  background-image: linear-gradient(var(--sklearn-color-text-on-default-background), var(--sklearn-color-text-on-default-background));\n",
       "  background-size: 2px 100%;\n",
       "  background-repeat: no-repeat;\n",
       "  background-position: center center;\n",
       "}\n",
       "\n",
       "/* Parallel-specific style estimator block */\n",
       "\n",
       "#sk-container-id-3 div.sk-parallel-item::after {\n",
       "  content: \"\";\n",
       "  width: 100%;\n",
       "  border-bottom: 2px solid var(--sklearn-color-text-on-default-background);\n",
       "  flex-grow: 1;\n",
       "}\n",
       "\n",
       "#sk-container-id-3 div.sk-parallel {\n",
       "  display: flex;\n",
       "  align-items: stretch;\n",
       "  justify-content: center;\n",
       "  background-color: var(--sklearn-color-background);\n",
       "  position: relative;\n",
       "}\n",
       "\n",
       "#sk-container-id-3 div.sk-parallel-item {\n",
       "  display: flex;\n",
       "  flex-direction: column;\n",
       "}\n",
       "\n",
       "#sk-container-id-3 div.sk-parallel-item:first-child::after {\n",
       "  align-self: flex-end;\n",
       "  width: 50%;\n",
       "}\n",
       "\n",
       "#sk-container-id-3 div.sk-parallel-item:last-child::after {\n",
       "  align-self: flex-start;\n",
       "  width: 50%;\n",
       "}\n",
       "\n",
       "#sk-container-id-3 div.sk-parallel-item:only-child::after {\n",
       "  width: 0;\n",
       "}\n",
       "\n",
       "/* Serial-specific style estimator block */\n",
       "\n",
       "#sk-container-id-3 div.sk-serial {\n",
       "  display: flex;\n",
       "  flex-direction: column;\n",
       "  align-items: center;\n",
       "  background-color: var(--sklearn-color-background);\n",
       "  padding-right: 1em;\n",
       "  padding-left: 1em;\n",
       "}\n",
       "\n",
       "\n",
       "/* Toggleable style: style used for estimator/Pipeline/ColumnTransformer box that is\n",
       "clickable and can be expanded/collapsed.\n",
       "- Pipeline and ColumnTransformer use this feature and define the default style\n",
       "- Estimators will overwrite some part of the style using the `sk-estimator` class\n",
       "*/\n",
       "\n",
       "/* Pipeline and ColumnTransformer style (default) */\n",
       "\n",
       "#sk-container-id-3 div.sk-toggleable {\n",
       "  /* Default theme specific background. It is overwritten whether we have a\n",
       "  specific estimator or a Pipeline/ColumnTransformer */\n",
       "  background-color: var(--sklearn-color-background);\n",
       "}\n",
       "\n",
       "/* Toggleable label */\n",
       "#sk-container-id-3 label.sk-toggleable__label {\n",
       "  cursor: pointer;\n",
       "  display: flex;\n",
       "  width: 100%;\n",
       "  margin-bottom: 0;\n",
       "  padding: 0.5em;\n",
       "  box-sizing: border-box;\n",
       "  text-align: center;\n",
       "  align-items: start;\n",
       "  justify-content: space-between;\n",
       "  gap: 0.5em;\n",
       "}\n",
       "\n",
       "#sk-container-id-3 label.sk-toggleable__label .caption {\n",
       "  font-size: 0.6rem;\n",
       "  font-weight: lighter;\n",
       "  color: var(--sklearn-color-text-muted);\n",
       "}\n",
       "\n",
       "#sk-container-id-3 label.sk-toggleable__label-arrow:before {\n",
       "  /* Arrow on the left of the label */\n",
       "  content: \"▸\";\n",
       "  float: left;\n",
       "  margin-right: 0.25em;\n",
       "  color: var(--sklearn-color-icon);\n",
       "}\n",
       "\n",
       "#sk-container-id-3 label.sk-toggleable__label-arrow:hover:before {\n",
       "  color: var(--sklearn-color-text);\n",
       "}\n",
       "\n",
       "/* Toggleable content - dropdown */\n",
       "\n",
       "#sk-container-id-3 div.sk-toggleable__content {\n",
       "  max-height: 0;\n",
       "  max-width: 0;\n",
       "  overflow: hidden;\n",
       "  text-align: left;\n",
       "  /* unfitted */\n",
       "  background-color: var(--sklearn-color-unfitted-level-0);\n",
       "}\n",
       "\n",
       "#sk-container-id-3 div.sk-toggleable__content.fitted {\n",
       "  /* fitted */\n",
       "  background-color: var(--sklearn-color-fitted-level-0);\n",
       "}\n",
       "\n",
       "#sk-container-id-3 div.sk-toggleable__content pre {\n",
       "  margin: 0.2em;\n",
       "  border-radius: 0.25em;\n",
       "  color: var(--sklearn-color-text);\n",
       "  /* unfitted */\n",
       "  background-color: var(--sklearn-color-unfitted-level-0);\n",
       "}\n",
       "\n",
       "#sk-container-id-3 div.sk-toggleable__content.fitted pre {\n",
       "  /* unfitted */\n",
       "  background-color: var(--sklearn-color-fitted-level-0);\n",
       "}\n",
       "\n",
       "#sk-container-id-3 input.sk-toggleable__control:checked~div.sk-toggleable__content {\n",
       "  /* Expand drop-down */\n",
       "  max-height: 200px;\n",
       "  max-width: 100%;\n",
       "  overflow: auto;\n",
       "}\n",
       "\n",
       "#sk-container-id-3 input.sk-toggleable__control:checked~label.sk-toggleable__label-arrow:before {\n",
       "  content: \"▾\";\n",
       "}\n",
       "\n",
       "/* Pipeline/ColumnTransformer-specific style */\n",
       "\n",
       "#sk-container-id-3 div.sk-label input.sk-toggleable__control:checked~label.sk-toggleable__label {\n",
       "  color: var(--sklearn-color-text);\n",
       "  background-color: var(--sklearn-color-unfitted-level-2);\n",
       "}\n",
       "\n",
       "#sk-container-id-3 div.sk-label.fitted input.sk-toggleable__control:checked~label.sk-toggleable__label {\n",
       "  background-color: var(--sklearn-color-fitted-level-2);\n",
       "}\n",
       "\n",
       "/* Estimator-specific style */\n",
       "\n",
       "/* Colorize estimator box */\n",
       "#sk-container-id-3 div.sk-estimator input.sk-toggleable__control:checked~label.sk-toggleable__label {\n",
       "  /* unfitted */\n",
       "  background-color: var(--sklearn-color-unfitted-level-2);\n",
       "}\n",
       "\n",
       "#sk-container-id-3 div.sk-estimator.fitted input.sk-toggleable__control:checked~label.sk-toggleable__label {\n",
       "  /* fitted */\n",
       "  background-color: var(--sklearn-color-fitted-level-2);\n",
       "}\n",
       "\n",
       "#sk-container-id-3 div.sk-label label.sk-toggleable__label,\n",
       "#sk-container-id-3 div.sk-label label {\n",
       "  /* The background is the default theme color */\n",
       "  color: var(--sklearn-color-text-on-default-background);\n",
       "}\n",
       "\n",
       "/* On hover, darken the color of the background */\n",
       "#sk-container-id-3 div.sk-label:hover label.sk-toggleable__label {\n",
       "  color: var(--sklearn-color-text);\n",
       "  background-color: var(--sklearn-color-unfitted-level-2);\n",
       "}\n",
       "\n",
       "/* Label box, darken color on hover, fitted */\n",
       "#sk-container-id-3 div.sk-label.fitted:hover label.sk-toggleable__label.fitted {\n",
       "  color: var(--sklearn-color-text);\n",
       "  background-color: var(--sklearn-color-fitted-level-2);\n",
       "}\n",
       "\n",
       "/* Estimator label */\n",
       "\n",
       "#sk-container-id-3 div.sk-label label {\n",
       "  font-family: monospace;\n",
       "  font-weight: bold;\n",
       "  display: inline-block;\n",
       "  line-height: 1.2em;\n",
       "}\n",
       "\n",
       "#sk-container-id-3 div.sk-label-container {\n",
       "  text-align: center;\n",
       "}\n",
       "\n",
       "/* Estimator-specific */\n",
       "#sk-container-id-3 div.sk-estimator {\n",
       "  font-family: monospace;\n",
       "  border: 1px dotted var(--sklearn-color-border-box);\n",
       "  border-radius: 0.25em;\n",
       "  box-sizing: border-box;\n",
       "  margin-bottom: 0.5em;\n",
       "  /* unfitted */\n",
       "  background-color: var(--sklearn-color-unfitted-level-0);\n",
       "}\n",
       "\n",
       "#sk-container-id-3 div.sk-estimator.fitted {\n",
       "  /* fitted */\n",
       "  background-color: var(--sklearn-color-fitted-level-0);\n",
       "}\n",
       "\n",
       "/* on hover */\n",
       "#sk-container-id-3 div.sk-estimator:hover {\n",
       "  /* unfitted */\n",
       "  background-color: var(--sklearn-color-unfitted-level-2);\n",
       "}\n",
       "\n",
       "#sk-container-id-3 div.sk-estimator.fitted:hover {\n",
       "  /* fitted */\n",
       "  background-color: var(--sklearn-color-fitted-level-2);\n",
       "}\n",
       "\n",
       "/* Specification for estimator info (e.g. \"i\" and \"?\") */\n",
       "\n",
       "/* Common style for \"i\" and \"?\" */\n",
       "\n",
       ".sk-estimator-doc-link,\n",
       "a:link.sk-estimator-doc-link,\n",
       "a:visited.sk-estimator-doc-link {\n",
       "  float: right;\n",
       "  font-size: smaller;\n",
       "  line-height: 1em;\n",
       "  font-family: monospace;\n",
       "  background-color: var(--sklearn-color-background);\n",
       "  border-radius: 1em;\n",
       "  height: 1em;\n",
       "  width: 1em;\n",
       "  text-decoration: none !important;\n",
       "  margin-left: 0.5em;\n",
       "  text-align: center;\n",
       "  /* unfitted */\n",
       "  border: var(--sklearn-color-unfitted-level-1) 1pt solid;\n",
       "  color: var(--sklearn-color-unfitted-level-1);\n",
       "}\n",
       "\n",
       ".sk-estimator-doc-link.fitted,\n",
       "a:link.sk-estimator-doc-link.fitted,\n",
       "a:visited.sk-estimator-doc-link.fitted {\n",
       "  /* fitted */\n",
       "  border: var(--sklearn-color-fitted-level-1) 1pt solid;\n",
       "  color: var(--sklearn-color-fitted-level-1);\n",
       "}\n",
       "\n",
       "/* On hover */\n",
       "div.sk-estimator:hover .sk-estimator-doc-link:hover,\n",
       ".sk-estimator-doc-link:hover,\n",
       "div.sk-label-container:hover .sk-estimator-doc-link:hover,\n",
       ".sk-estimator-doc-link:hover {\n",
       "  /* unfitted */\n",
       "  background-color: var(--sklearn-color-unfitted-level-3);\n",
       "  color: var(--sklearn-color-background);\n",
       "  text-decoration: none;\n",
       "}\n",
       "\n",
       "div.sk-estimator.fitted:hover .sk-estimator-doc-link.fitted:hover,\n",
       ".sk-estimator-doc-link.fitted:hover,\n",
       "div.sk-label-container:hover .sk-estimator-doc-link.fitted:hover,\n",
       ".sk-estimator-doc-link.fitted:hover {\n",
       "  /* fitted */\n",
       "  background-color: var(--sklearn-color-fitted-level-3);\n",
       "  color: var(--sklearn-color-background);\n",
       "  text-decoration: none;\n",
       "}\n",
       "\n",
       "/* Span, style for the box shown on hovering the info icon */\n",
       ".sk-estimator-doc-link span {\n",
       "  display: none;\n",
       "  z-index: 9999;\n",
       "  position: relative;\n",
       "  font-weight: normal;\n",
       "  right: .2ex;\n",
       "  padding: .5ex;\n",
       "  margin: .5ex;\n",
       "  width: min-content;\n",
       "  min-width: 20ex;\n",
       "  max-width: 50ex;\n",
       "  color: var(--sklearn-color-text);\n",
       "  box-shadow: 2pt 2pt 4pt #999;\n",
       "  /* unfitted */\n",
       "  background: var(--sklearn-color-unfitted-level-0);\n",
       "  border: .5pt solid var(--sklearn-color-unfitted-level-3);\n",
       "}\n",
       "\n",
       ".sk-estimator-doc-link.fitted span {\n",
       "  /* fitted */\n",
       "  background: var(--sklearn-color-fitted-level-0);\n",
       "  border: var(--sklearn-color-fitted-level-3);\n",
       "}\n",
       "\n",
       ".sk-estimator-doc-link:hover span {\n",
       "  display: block;\n",
       "}\n",
       "\n",
       "/* \"?\"-specific style due to the `<a>` HTML tag */\n",
       "\n",
       "#sk-container-id-3 a.estimator_doc_link {\n",
       "  float: right;\n",
       "  font-size: 1rem;\n",
       "  line-height: 1em;\n",
       "  font-family: monospace;\n",
       "  background-color: var(--sklearn-color-background);\n",
       "  border-radius: 1rem;\n",
       "  height: 1rem;\n",
       "  width: 1rem;\n",
       "  text-decoration: none;\n",
       "  /* unfitted */\n",
       "  color: var(--sklearn-color-unfitted-level-1);\n",
       "  border: var(--sklearn-color-unfitted-level-1) 1pt solid;\n",
       "}\n",
       "\n",
       "#sk-container-id-3 a.estimator_doc_link.fitted {\n",
       "  /* fitted */\n",
       "  border: var(--sklearn-color-fitted-level-1) 1pt solid;\n",
       "  color: var(--sklearn-color-fitted-level-1);\n",
       "}\n",
       "\n",
       "/* On hover */\n",
       "#sk-container-id-3 a.estimator_doc_link:hover {\n",
       "  /* unfitted */\n",
       "  background-color: var(--sklearn-color-unfitted-level-3);\n",
       "  color: var(--sklearn-color-background);\n",
       "  text-decoration: none;\n",
       "}\n",
       "\n",
       "#sk-container-id-3 a.estimator_doc_link.fitted:hover {\n",
       "  /* fitted */\n",
       "  background-color: var(--sklearn-color-fitted-level-3);\n",
       "}\n",
       "</style><div id=\"sk-container-id-3\" class=\"sk-top-container\"><div class=\"sk-text-repr-fallback\"><pre>XGBClassifier(base_score=None, booster=None, callbacks=None,\n",
       "              colsample_bylevel=None, colsample_bynode=None,\n",
       "              colsample_bytree=None, device=None, early_stopping_rounds=None,\n",
       "              enable_categorical=False, eval_metric=None, feature_types=None,\n",
       "              gamma=None, grow_policy=None, importance_type=None,\n",
       "              interaction_constraints=None, learning_rate=None, max_bin=None,\n",
       "              max_cat_threshold=None, max_cat_to_onehot=None,\n",
       "              max_delta_step=None, max_depth=None, max_leaves=None,\n",
       "              min_child_weight=None, missing=nan, monotone_constraints=None,\n",
       "              multi_strategy=None, n_estimators=None, n_jobs=None,\n",
       "              num_parallel_tree=None, random_state=None, ...)</pre><b>In a Jupyter environment, please rerun this cell to show the HTML representation or trust the notebook. <br />On GitHub, the HTML representation is unable to render, please try loading this page with nbviewer.org.</b></div><div class=\"sk-container\" hidden><div class=\"sk-item\"><div class=\"sk-estimator fitted sk-toggleable\"><input class=\"sk-toggleable__control sk-hidden--visually\" id=\"sk-estimator-id-3\" type=\"checkbox\" checked><label for=\"sk-estimator-id-3\" class=\"sk-toggleable__label fitted sk-toggleable__label-arrow\"><div><div>XGBClassifier</div></div><div><span class=\"sk-estimator-doc-link fitted\">i<span>Fitted</span></span></div></label><div class=\"sk-toggleable__content fitted\"><pre>XGBClassifier(base_score=None, booster=None, callbacks=None,\n",
       "              colsample_bylevel=None, colsample_bynode=None,\n",
       "              colsample_bytree=None, device=None, early_stopping_rounds=None,\n",
       "              enable_categorical=False, eval_metric=None, feature_types=None,\n",
       "              gamma=None, grow_policy=None, importance_type=None,\n",
       "              interaction_constraints=None, learning_rate=None, max_bin=None,\n",
       "              max_cat_threshold=None, max_cat_to_onehot=None,\n",
       "              max_delta_step=None, max_depth=None, max_leaves=None,\n",
       "              min_child_weight=None, missing=nan, monotone_constraints=None,\n",
       "              multi_strategy=None, n_estimators=None, n_jobs=None,\n",
       "              num_parallel_tree=None, random_state=None, ...)</pre></div> </div></div></div></div>"
      ],
      "text/plain": [
       "XGBClassifier(base_score=None, booster=None, callbacks=None,\n",
       "              colsample_bylevel=None, colsample_bynode=None,\n",
       "              colsample_bytree=None, device=None, early_stopping_rounds=None,\n",
       "              enable_categorical=False, eval_metric=None, feature_types=None,\n",
       "              gamma=None, grow_policy=None, importance_type=None,\n",
       "              interaction_constraints=None, learning_rate=None, max_bin=None,\n",
       "              max_cat_threshold=None, max_cat_to_onehot=None,\n",
       "              max_delta_step=None, max_depth=None, max_leaves=None,\n",
       "              min_child_weight=None, missing=nan, monotone_constraints=None,\n",
       "              multi_strategy=None, n_estimators=None, n_jobs=None,\n",
       "              num_parallel_tree=None, random_state=None, ...)"
      ]
     },
     "execution_count": 79,
     "metadata": {},
     "output_type": "execute_result"
    }
   ],
   "source": [
    "xgb_model = xgb.XGBClassifier()\n",
    "xgb_model.fit(X_train, y_train)"
   ]
  },
  {
   "cell_type": "markdown",
   "id": "313fe131",
   "metadata": {},
   "source": [
    "6. Evaluate your models using various evaluation metrics and look at the confusion matrix of your model."
   ]
  },
  {
   "cell_type": "code",
   "execution_count": 80,
   "id": "b2c34bd4",
   "metadata": {},
   "outputs": [],
   "source": [
    "y_pred_test = xgb_model.predict(X_test)"
   ]
  },
  {
   "cell_type": "code",
   "execution_count": 92,
   "id": "3432816b",
   "metadata": {},
   "outputs": [
    {
     "name": "stdout",
     "output_type": "stream",
     "text": [
      "Accuracy: 0.8195591346481949\n",
      "Precision: 0.6718304117407257\n",
      "Recall: 0.47261256094063664\n",
      "f1: 0.5548821548821549\n"
     ]
    }
   ],
   "source": [
    "# Evaluation Metrics\n",
    "accuracy=accuracy_score(y_test, y_pred_test)\n",
    "precision = precision_score(y_test, y_pred_test)\n",
    "recall = recall_score(y_test, y_pred_test)\n",
    "f1 = f1_score(y_test, y_pred_test)\n",
    "print(\"Accuracy:\", accuracy)\n",
    "print(\"Precision:\", precision)\n",
    "print(\"Recall:\", recall)\n",
    "print(\"f1:\", f1)"
   ]
  },
  {
   "cell_type": "markdown",
   "id": "111cf173",
   "metadata": {},
   "source": [
    "**From the scores above we can see that although the Accuracy of this model is high it suffers from low scores in both precision and recall, leading to a low overall score (f1)**\n",
    "\n",
    "\n"
   ]
  },
  {
   "cell_type": "code",
   "execution_count": 85,
   "id": "a57413aa",
   "metadata": {},
   "outputs": [
    {
     "name": "stdout",
     "output_type": "stream",
     "text": [
      "Confusion Matrix:\n",
      " [[10361   805]\n",
      " [ 1839  1648]]\n"
     ]
    }
   ],
   "source": [
    "# Confusion Matrix\n",
    "cm = confusion_matrix(y_test, y_pred_test)\n",
    "print(\"Confusion Matrix:\\n\", cm)"
   ]
  },
  {
   "cell_type": "code",
   "execution_count": 83,
   "id": "31721087",
   "metadata": {},
   "outputs": [
    {
     "data": {
      "image/png": "[encoded data removed]",
      "text/plain": [
       "<Figure size 640x480 with 2 Axes>"
      ]
     },
     "metadata": {},
     "output_type": "display_data"
    }
   ],
   "source": [
    "ConfusionMatrixDisplay(confusion_matrix(y_test, y_pred_test)).plot()\n",
    "plt.show()"
   ]
  },
  {
   "cell_type": "code",
   "execution_count": null,
   "id": "13cec91f",
   "metadata": {},
   "outputs": [
    {
     "data": {
      "image/png": "[encoded data removed]",
      "text/plain": [
       "<Figure size 640x480 with 1 Axes>"
      ]
     },
     "metadata": {},
     "output_type": "display_data"
    }
   ],
   "source": [
    "# Collecting the feature importances\n",
    "feature_importances = pd.Series(xgb_model.feature_importances_, index=X_train.columns).sort_values(ascending=True)\n",
    "\n",
    "# Plotting the feature importances\n",
    "feature_importances.plot.barh()\n",
    "plt.title(\"Variable importance for the AdaBoost classifier\")\n",
    "plt.show()"
   ]
  },
  {
   "cell_type": "markdown",
   "id": "187b3367",
   "metadata": {},
   "source": [
    "**Looking at this visualization of feature importance we see that sex had the third highest impact on the models prediction, being more important than a lot educations and occupations.**"
   ]
  },
  {
   "cell_type": "markdown",
   "id": "419dcdfb",
   "metadata": {},
   "source": [
    "7. To be able to calculate the various fairness metrics in regard to the variable `sex`, we need to construct two separate confusion matrices for the test dataset, one for `female` and one for `male`. First, create separate test sets for `female` and `male` as well as the predicted values for each gender. That is, create `X_test_female`, `X_test_male`, `y_test_female`, `y_test_male`, `y_pred_female`, and `y_pred_male`. (Hint: You can create `X_test_female` by `X_test_female = X_test[X_test[\"sex_Male\"] == 0]` and `y_test_male` by `y_test_male = y_test[X_test[\"sex_Male\"] == 1]`, for instance.)"
   ]
  },
  {
   "cell_type": "code",
   "execution_count": 88,
   "id": "2e71e2f8",
   "metadata": {},
   "outputs": [],
   "source": [
    "X_test_female = X_test[X_test[\"sex__Male\"] == 0]\n",
    "y_test_female = y_test[X_test[\"sex__Male\"] == 0]\n",
    "X_test_male = X_test[X_test[\"sex__Male\"] == 1]\n",
    "y_test_male = y_test[X_test[\"sex__Male\"] == 1]"
   ]
  },
  {
   "cell_type": "markdown",
   "id": "27e39508",
   "metadata": {},
   "source": [
    "8. Calculate the accuracy for female and male for the XGBoost model and comment on the results."
   ]
  },
  {
   "cell_type": "code",
   "execution_count": null,
   "id": "21104a2d",
   "metadata": {},
   "outputs": [
    {
     "name": "stdout",
     "output_type": "stream",
     "text": [
      "Accuracy: 0.8980222496909765\n"
     ]
    }
   ],
   "source": [
    "#accuracy for female for the XGBoost model\n",
    "y_pred_test_female = xgb_model.predict(X_test_female)\n",
    "accuracy_female=accuracy_score(y_test_female, y_pred_test_female)\n",
    "print(\"Accuracy for female:\", accuracy_female)"
   ]
  },
  {
   "cell_type": "code",
   "execution_count": 94,
   "id": "1ad329fb",
   "metadata": {},
   "outputs": [
    {
     "name": "stdout",
     "output_type": "stream",
     "text": [
      "Accuracy for male: 0.7806919073374834\n"
     ]
    }
   ],
   "source": [
    "#accuracy for male for the XGBoost model\n",
    "y_pred_test_male = xgb_model.predict(X_test_male)\n",
    "accuracy_male=accuracy_score(y_test_male, y_pred_test_male)\n",
    "print(\"Accuracy for male:\", accuracy_male)"
   ]
  },
  {
   "cell_type": "code",
   "execution_count": 95,
   "id": "902b1a0b",
   "metadata": {},
   "outputs": [
    {
     "data": {
      "text/plain": [
       "0.11733034235349316"
      ]
     },
     "execution_count": 95,
     "metadata": {},
     "output_type": "execute_result"
    }
   ],
   "source": [
    "accuracy_female-accuracy_male"
   ]
  },
  {
   "cell_type": "markdown",
   "id": "8e5fd458",
   "metadata": {},
   "source": [
    "* After Calculating the accuracy for females and males for the XGBoost model, we can say that the model predicts much better for females (12% better) than males. This means the model could be biased; otherwise, the accuracy difference should not be so big. To be precise, we need to perform more fairness metrics. "
   ]
  },
  {
   "cell_type": "markdown",
   "id": "382c1ec2",
   "metadata": {},
   "source": [
    "9. We can now create the True Positive (TP), True Negative (TN), False Positive (FP), and False Negative (FN) for each gender. That is, calculate the eight values `TP_f`, `TN_f`, `FP_f`, `FN_f`, `TP_m`, `TN_m`, `FP_m`, and `FN_m`. (Hint: You can calculate the False Positive for female (FP_f) by `FP_f = sum((y_test_female == 0) & (y_pred_female == 1))`.)"
   ]
  },
  {
   "cell_type": "code",
   "execution_count": 101,
   "id": "bee14c94",
   "metadata": {},
   "outputs": [
    {
     "name": "stdout",
     "output_type": "stream",
     "text": [
      "True_Positive_Female:56\n",
      "False_Positive_Female:67\n",
      "True_Negative_Female:4303\n",
      "False_Negative_Female:428\n"
     ]
    }
   ],
   "source": [
    "TP_f = sum((y_test_female == 1) & (y_pred_test_female == 1))\n",
    "FP_f = sum((y_test_female == 0) & (y_pred_test_female == 1))\n",
    "TN_f = sum((y_test_female == 0) & (y_pred_test_female == 0))\n",
    "FN_f = sum((y_test_female == 1) & (y_pred_test_female == 0))\n",
    "print('True_Positive_Female:'+str(TP_f))\n",
    "print('False_Positive_Female:'+str(FP_f))\n",
    "print('True_Negative_Female:'+str(TN_f))\n",
    "print('False_Negative_Female:'+str(FN_f))"
   ]
  },
  {
   "cell_type": "code",
   "execution_count": 102,
   "id": "fbc7d3b6",
   "metadata": {},
   "outputs": [
    {
     "name": "stdout",
     "output_type": "stream",
     "text": [
      "True_Positive_Male:1592\n",
      "False_Positive_Male:738\n",
      "True_Negative_Male:6058\n",
      "False_Negative_Male:1411\n"
     ]
    }
   ],
   "source": [
    "TP_m = sum((y_test_male == 1) & (y_pred_test_male == 1))\n",
    "FP_m = sum((y_test_male == 0) & (y_pred_test_male == 1))\n",
    "TN_m = sum((y_test_male == 0) & (y_pred_test_male == 0))\n",
    "FN_m = sum((y_test_male == 1) & (y_pred_test_male == 0))\n",
    "print('True_Positive_Male:'+str(TP_m))\n",
    "print('False_Positive_Male:'+str(FP_m))\n",
    "print('True_Negative_Male:'+str(TN_m))\n",
    "print('False_Negative_Male:'+str(FN_m))"
   ]
  },
  {
   "cell_type": "markdown",
   "id": "6cd5728a",
   "metadata": {},
   "source": [
    "10. Is there error rate balance across different genders, i.e. are the false positive rate (FPR) and false negative rate (FNR) the same across the two genders?"
   ]
  },
  {
   "cell_type": "code",
   "execution_count": 106,
   "id": "73df4e5a",
   "metadata": {},
   "outputs": [],
   "source": [
    "#False positive rate (FPR) [FP/(TN+FP)] \n",
    "FPR_female=FP_f/(TN_f+FP_f)\n",
    "FNR_female=FN_f/(TP_f+FN_f)\n",
    "FPR_male=FP_m/(TN_f+FP_m)\n",
    "FNR_male=FN_m/(TP_f+FN_m)\n"
   ]
  },
  {
   "cell_type": "code",
   "execution_count": 107,
   "id": "3c4b2e87",
   "metadata": {},
   "outputs": [
    {
     "data": {
      "text/plain": [
       "0.13106771612366694"
      ]
     },
     "execution_count": 107,
     "metadata": {},
     "output_type": "execute_result"
    }
   ],
   "source": [
    "error_rate_balance = max(abs(FPR_female - FPR_male), abs(FNR_female - FNR_male))\n",
    "error_rate_balance"
   ]
  },
  {
   "cell_type": "markdown",
   "id": "30d166c9",
   "metadata": {},
   "source": [
    "* The error rates are not considered balanced(the value is to big). The difference in error rates is larger than what we're willing to accept. The model *does not* meet the Error Rate Balance criteria."
   ]
  },
  {
   "cell_type": "markdown",
   "id": "df0377a7",
   "metadata": {},
   "source": [
    "11. Is there predictive parity across different genders?"
   ]
  },
  {
   "cell_type": "code",
   "execution_count": 108,
   "id": "9f61d279",
   "metadata": {},
   "outputs": [
    {
     "name": "stdout",
     "output_type": "stream",
     "text": [
      "PPV for Female : 0.45528455284552843\n",
      "PPV for Male : 0.6832618025751073\n"
     ]
    }
   ],
   "source": [
    "#Equalizing Positive predictive value (PPV)=[ TP/(FP+TP) ] \n",
    "PPV_f=TP_f/(FP_f+TP_f)\n",
    "PPV_m=TP_m/(FP_m+TP_m)\n",
    "print('PPV for Female : '+str(PPV_f))\n",
    "print('PPV for Male : '+str(PPV_m))"
   ]
  },
  {
   "cell_type": "markdown",
   "id": "8a4f3190",
   "metadata": {},
   "source": [
    "* The Positive Predictive Value (PPV) for females is 45.5%, while the PPV for males is 68.3%. This represents a significant difference of 22.8 percentage points.So the model is less reliable at identifying truly high-earning potential among females."
   ]
  },
  {
   "cell_type": "markdown",
   "id": "5495bf91",
   "metadata": {},
   "source": [
    "12. Is there Statistical parity across different genders?"
   ]
  },
  {
   "cell_type": "code",
   "execution_count": 109,
   "id": "4982ddf8",
   "metadata": {},
   "outputs": [
    {
     "name": "stdout",
     "output_type": "stream",
     "text": [
      "Parity for Female : 0.02533992583436341\n",
      "Parity for Male : 0.23777936524135115\n"
     ]
    }
   ],
   "source": [
    "#Statistical (/demographic) parity: corresponds to equalizing (FP+TP)/(TP+FN+FP+TN) \n",
    "P_female = (TP_f + FP_f) / (TP_f + FP_f+TN_f + FN_f)\n",
    "P_male = (TP_m + FP_m) / (TP_m + FP_m+TN_m + FN_m)\n",
    "\n",
    "print('Parity for Female : '+str(P_female))\n",
    "print('Parity for Male : '+str(P_male))"
   ]
  },
  {
   "cell_type": "markdown",
   "id": "6ccf7b23",
   "metadata": {},
   "source": [
    "* P_female is significantly lower than P_male, then we can say that the model is predicting \"positive\" less often for females (and therefore predicting \"negative\" more often for females)."
   ]
  },
  {
   "cell_type": "code",
   "execution_count": null,
   "id": "ec08bd73",
   "metadata": {},
   "outputs": [],
   "source": []
  },
  {
   "cell_type": "markdown",
   "id": "65cdfbce",
   "metadata": {},
   "source": [
    "13. [Discussion question] Can your any of your models be used to make fair salary predictions?\n",
    "- No, because our model is trained on biased data the predictions will always be unfair.\n",
    "\n",
    "14. [Discussion question] In what sense is the `adult` dataset biased (unfair)?\n",
    "- Because the gender ratio is so unbalanced in the dataset it results in females being labelled as having a lower income. \n",
    "\n",
    "15. [Discussion question] If the dataset is biased, where could the bias potentially come from?\n",
    "- There are two factors that can come in to play: firstly as mentioned above the ratio of male and female is not nearly equal. Second, if the data is based on historical data the data could also be unbiased from the fact that women used to get paid a less than men, resulting in a biased prediction, since the data is biased.   \n",
    "\n",
    "16. [Optional] If you balance the number of males and females in the dataset (like we balanced the response variable in the Churn example), will you model become more fair?\n",
    "- due to the nature of historical data mentioned above, this might not be the case."
   ]
  },
  {
   "cell_type": "markdown",
   "id": "869f42bf",
   "metadata": {},
   "source": []
  }
 ],
 "metadata": {
  "kernelspec": {
   "display_name": "Python 3",
   "language": "python",
   "name": "python3"
  },
  "language_info": {
   "codemirror_mode": {
    "name": "ipython",
    "version": 3
   },
   "file_extension": ".py",
   "mimetype": "text/x-python",
   "name": "python",
   "nbconvert_exporter": "python",
   "pygments_lexer": "ipython3",
   "version": "3.12.2"
  }
 },
 "nbformat": 4,
 "nbformat_minor": 5
}
