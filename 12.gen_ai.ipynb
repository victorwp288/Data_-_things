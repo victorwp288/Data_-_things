{
 "cells": [
  {
   "cell_type": "markdown",
   "metadata": {},
   "source": [
    " The hand-in exercise for this topic is in the notebook named ‘rag_task.ipynb’. Do all 4 \n",
    "tasks within this notebook. For task 2, you should try at least 3 types of chunking such as \n",
    "chunk in paragraphs, sentences or even by punctuation marks – you are welcome to \n",
    "choose your own chunking strategy. For task 4 you should try at least one other type of \n",
    "similarity or distance function to calculate the similarity. "
   ]
  },
  {
   "cell_type": "markdown",
   "metadata": {},
   "source": [
    "Task\n",
    "1. Creat a RAG pipeline that can take following text and answer following questions\n",
    "2. Try different types of chunking to get better answers?\n",
    "3. Does asking questions differently give better answers? Why?\n",
    "4. Try a different similarity search instead of cosine similarity - do the answers improve?\n",
    "\n"
   ]
  },
  {
   "cell_type": "code",
   "execution_count": 1,
   "metadata": {},
   "outputs": [],
   "source": [
    "import numpy as np\n",
    "from sentence_transformers import SentenceTransformer\n",
    "from sklearn.metrics.pairwise import cosine_similarity, euclidean_distances\n",
    "import re"
   ]
  },
  {
   "cell_type": "code",
   "execution_count": 2,
   "metadata": {},
   "outputs": [],
   "source": [
    "MODEL_NAME = \"sentence-transformers/all-MiniLM-L6-v2\"\n",
    "model = SentenceTransformer(MODEL_NAME)"
   ]
  },
  {
   "cell_type": "code",
   "execution_count": 3,
   "metadata": {},
   "outputs": [],
   "source": [
    "sample_text = \"\"\"\n",
    "The Amazon rainforest is the largest tropical rainforest in the world, covering approximately 5.5 million square kilometers. It spans across nine countries, including Brazil, Peru, and Colombia. The rainforest is home to around 10% of the known species on Earth, including jaguars, sloths, and thousands of species of insects and birds.\n",
    "\n",
    "Deforestation is a significant threat to the Amazon, with thousands of square kilometers lost each year due to agriculture, logging, and urbanization. This deforestation contributes to climate change, as the rainforest acts as a major carbon sink, absorbing millions of tons of carbon dioxide annually.\n",
    "\n",
    "Indigenous tribes have lived in the Amazon for thousands of years, relying on its rich biodiversity for food, medicine, and shelter. These tribes have unique languages, traditions, and knowledge of the ecosystem. However, many face threats from illegal land encroachment and industrial activities.\n",
    "\n",
    "Scientists believe that the Amazon plays a crucial role in global weather patterns by releasing water vapor into the atmosphere, which influences rainfall across South America and even other continents. The Amazon River, which flows through the rainforest, is the second longest river in the world and carries more water than any other river.\n",
    "\n",
    "Efforts to protect the Amazon include international agreements, conservation programs, and sustainable development projects that aim to balance economic growth with environmental protection. Many organizations and governments are working to reduce illegal logging and promote reforestation initiatives.\n",
    "\"\"\""
   ]
  },
  {
   "cell_type": "code",
   "execution_count": 4,
   "metadata": {},
   "outputs": [],
   "source": [
    "questions = [\n",
    "    \"What is the Amazon rainforest?\",\n",
    "    \"Which countries does the Amazon span across?\",\n",
    "    \"Why is deforestation a problem in the Amazon?\",\n",
    "    \"How does the Amazon rainforest affect global weather patterns?\",\n",
    "    \"What role do indigenous tribes play in the Amazon?\",\n",
    "    \"What is the importance of the Amazon River?\",\n",
    "    \"What types of wildlife can be found in the Amazon?\",\n",
    "    \"How does deforestation contribute to climate change?\",\n",
    "    \"What efforts are being made to protect the Amazon?\",\n",
    "    \"Why is the Amazon considered a major carbon sink?\"\n",
    "]"
   ]
  },
  {
   "cell_type": "code",
   "execution_count": 5,
   "metadata": {},
   "outputs": [],
   "source": [
    "# Function to generate embeddings\n",
    "def get_embeddings(texts):\n",
    "    return model.encode(texts, convert_to_numpy=True, batch_size=32)\n",
    "\n",
    "# Function to retrieve relevant passages using cosine similarity\n",
    "def retrieve_passages_cosine(query, stored_texts, stored_embeddings, top_k=1):\n",
    "    query_embedding = get_embeddings([query])\n",
    "    similarities = cosine_similarity(query_embedding, stored_embeddings)[0]\n",
    "    \n",
    "    # Get index of most similar passage\n",
    "    best_match_idx = np.argmax(similarities)\n",
    "    \n",
    "    return stored_texts[best_match_idx]\n",
    "\n",
    "# Function to answer questions\n",
    "def answer_question(query, stored_texts, stored_embeddings):\n",
    "    return retrieve_passages_cosine(query, stored_texts, stored_embeddings)"
   ]
  },
  {
   "cell_type": "markdown",
   "metadata": {},
   "source": [
    "Create a RAG pipeline"
   ]
  },
  {
   "cell_type": "code",
   "execution_count": 6,
   "metadata": {},
   "outputs": [
    {
     "name": "stdout",
     "output_type": "stream",
     "text": [
      "--- Basic RAG Pipeline with Paragraph Chunking ---\n",
      "Q: What is the Amazon rainforest?\n",
      "A: The Amazon rainforest is the largest tropical rainforest in the world, covering approximately 5.5 million square kilometers. It spans across nine countries, including Brazil, Peru, and Colombia. The rainforest is home to around 10% of the known species on Earth, including jaguars, sloths, and thousands of species of insects and birds.\n",
      "\n",
      "Q: Which countries does the Amazon span across?\n",
      "A: The Amazon rainforest is the largest tropical rainforest in the world, covering approximately 5.5 million square kilometers. It spans across nine countries, including Brazil, Peru, and Colombia. The rainforest is home to around 10% of the known species on Earth, including jaguars, sloths, and thousands of species of insects and birds.\n",
      "\n",
      "Q: Why is deforestation a problem in the Amazon?\n",
      "A: Deforestation is a significant threat to the Amazon, with thousands of square kilometers lost each year due to agriculture, logging, and urbanization. This deforestation contributes to climate change, as the rainforest acts as a major carbon sink, absorbing millions of tons of carbon dioxide annually.\n",
      "\n"
     ]
    }
   ],
   "source": [
    "# Task 1: Create a RAG pipeline with paragraph chunking\n",
    "def split_by_paragraphs(text):\n",
    "    return [para.strip() for para in re.split(\"\\n+\", text) if para.strip()]\n",
    "\n",
    "# Split text into paragraphs and generate embeddings\n",
    "paragraphs = split_by_paragraphs(sample_text)\n",
    "paragraph_embeddings = get_embeddings(paragraphs)\n",
    "\n",
    "# Test the basic RAG pipeline\n",
    "print(\"--- Basic RAG Pipeline with Paragraph Chunking ---\")\n",
    "for question in questions[:3]:  # Testing with first 3 questions\n",
    "    answer = answer_question(question, paragraphs, paragraph_embeddings)\n",
    "    print(f\"Q: {question}\")\n",
    "    print(f\"A: {answer}\\n\")"
   ]
  },
  {
   "cell_type": "markdown",
   "metadata": {},
   "source": [
    " Try different types of chunking"
   ]
  },
  {
   "cell_type": "code",
   "execution_count": 7,
   "metadata": {},
   "outputs": [
    {
     "name": "stdout",
     "output_type": "stream",
     "text": [
      "Paragraph chunking - Number of chunks: 5\n"
     ]
    }
   ],
   "source": [
    "# Chunking Strategy 1: Paragraph-based chunking (already implemented above)\n",
    "print(f\"Paragraph chunking - Number of chunks: {len(paragraphs)}\")"
   ]
  },
  {
   "cell_type": "code",
   "execution_count": 8,
   "metadata": {},
   "outputs": [
    {
     "name": "stdout",
     "output_type": "stream",
     "text": [
      "Sentence chunking - Number of chunks: 1\n",
      "\n",
      "Example sentences:\n",
      "1: The Amazon rainforest is the largest tropical rainforest in the world, covering approximately 5.5 million square kilometers. It spans across nine countries, including Brazil, Peru, and Colombia. The rainforest is home to around 10% of the known species on Earth, including jaguars, sloths, and thousands of species of insects and birds.\n",
      "\n",
      "Deforestation is a significant threat to the Amazon, with thousands of square kilometers lost each year due to agriculture, logging, and urbanization. This deforestation contributes to climate change, as the rainforest acts as a major carbon sink, absorbing millions of tons of carbon dioxide annually.\n",
      "\n",
      "Indigenous tribes have lived in the Amazon for thousands of years, relying on its rich biodiversity for food, medicine, and shelter. These tribes have unique languages, traditions, and knowledge of the ecosystem. However, many face threats from illegal land encroachment and industrial activities.\n",
      "\n",
      "Scientists believe that the Amazon plays a crucial role in global weather patterns by releasing water vapor into the atmosphere, which influences rainfall across South America and even other continents. The Amazon River, which flows through the rainforest, is the second longest river in the world and carries more water than any other river.\n",
      "\n",
      "Efforts to protect the Amazon include international agreements, conservation programs, and sustainable development projects that aim to balance economic growth with environmental protection. Many organizations and governments are working to reduce illegal logging and promote reforestation initiatives.\n"
     ]
    }
   ],
   "source": [
    "# Chunking Strategy 2: Sentence-based chunking\n",
    "def split_by_sentences(text):\n",
    "    sentences = re.split(r'(?<![\\w\\.])(?<![A-Z][a-z]\\.)(?<=\\.|\\?)\\s', text)\n",
    "    return [sentence.strip() for sentence in sentences if sentence.strip()]\n",
    "\n",
    "sentences = split_by_sentences(sample_text)\n",
    "sentence_embeddings = get_embeddings(sentences)\n",
    "\n",
    "print(f\"Sentence chunking - Number of chunks: {len(sentences)}\")\n",
    "print(\"\\nExample sentences:\")\n",
    "for i, sent in enumerate(sentences[:3]):\n",
    "    print(f\"{i+1}: {sent}\")"
   ]
  },
  {
   "cell_type": "code",
   "execution_count": 9,
   "metadata": {},
   "outputs": [
    {
     "name": "stdout",
     "output_type": "stream",
     "text": [
      "Word chunking - Number of chunks: 5\n",
      "\n",
      "Example word chunks:\n",
      "1: The Amazon rainforest is the largest tropical rainforest in the world, covering approximately 5.5 mi...\n",
      "2: birds. Deforestation is a significant threat to the Amazon, with thousands of square kilometers lost...\n"
     ]
    }
   ],
   "source": [
    "# Chunking Strategy 3: Word-based chunking (simpler approach)\n",
    "def split_by_words(text, words_per_chunk=50):\n",
    "    words = text.split()\n",
    "    chunks = []\n",
    "    \n",
    "    for i in range(0, len(words), words_per_chunk):\n",
    "        chunk = ' '.join(words[i:i + words_per_chunk])\n",
    "        chunks.append(chunk)\n",
    "    \n",
    "    return chunks\n",
    "\n",
    "# Generate word-based chunks\n",
    "word_chunks = split_by_words(sample_text)\n",
    "word_chunk_embeddings = model.encode(word_chunks, convert_to_numpy=True)\n",
    "\n",
    "print(f\"Word chunking - Number of chunks: {len(word_chunks)}\")\n",
    "print(\"\\nExample word chunks:\")\n",
    "for i, chunk in enumerate(word_chunks[:2]):\n",
    "    print(f\"{i+1}: {chunk[:100]}...\")"
   ]
  },
  {
   "cell_type": "code",
   "execution_count": 10,
   "metadata": {},
   "outputs": [
    {
     "name": "stdout",
     "output_type": "stream",
     "text": [
      "\n",
      "--- Answers with Word Chunking ---\n",
      "Q: What is the Amazon rainforest?\n",
      "A: The Amazon rainforest is the largest tropical rainforest in the world, covering approximately 5.5 million square kilometers. It spans across nine countries, including Brazil, Peru, and Colombia. The rainforest is home to around 10% of the known species on Earth, including jaguars, sloths, and thousands of species of insects and\n",
      "\n",
      "Q: Which countries does the Amazon span across?\n",
      "A: in the Amazon for thousands of years, relying on its rich biodiversity for food, medicine, and shelter. These tribes have unique languages, traditions, and knowledge of the ecosystem. However, many face threats from illegal land encroachment and industrial activities. Scientists believe that the Amazon plays a crucial role in global\n",
      "\n",
      "Q: Why is deforestation a problem in the Amazon?\n",
      "A: birds. Deforestation is a significant threat to the Amazon, with thousands of square kilometers lost each year due to agriculture, logging, and urbanization. This deforestation contributes to climate change, as the rainforest acts as a major carbon sink, absorbing millions of tons of carbon dioxide annually. Indigenous tribes have lived\n",
      "\n"
     ]
    }
   ],
   "source": [
    "# Test word-based chunking\n",
    "print(\"\\n--- Answers with Word Chunking ---\")\n",
    "for question in questions[:3]:\n",
    "    answer = answer_question(question, word_chunks, word_chunk_embeddings)\n",
    "    print(f\"Q: {question}\")\n",
    "    print(f\"A: {answer}\\n\")"
   ]
  },
  {
   "cell_type": "code",
   "execution_count": 11,
   "metadata": {},
   "outputs": [
    {
     "name": "stdout",
     "output_type": "stream",
     "text": [
      "\n",
      "--- Answers with Sentence Chunking ---\n",
      "Q: What is the Amazon rainforest?\n",
      "A: The Amazon rainforest is the largest tropical rainforest in the world, covering approximately 5.5 million square kilometers. It spans across nine countries, including Brazil, Peru, and Colombia. The rainforest is home to around 10% of the known species on Earth, including jaguars, sloths, and thousands of species of insects and birds.\n",
      "\n",
      "Deforestation is a significant threat to the Amazon, with thousands of square kilometers lost each year due to agriculture, logging, and urbanization. This deforestation contributes to climate change, as the rainforest acts as a major carbon sink, absorbing millions of tons of carbon dioxide annually.\n",
      "\n",
      "Indigenous tribes have lived in the Amazon for thousands of years, relying on its rich biodiversity for food, medicine, and shelter. These tribes have unique languages, traditions, and knowledge of the ecosystem. However, many face threats from illegal land encroachment and industrial activities.\n",
      "\n",
      "Scientists believe that the Amazon plays a crucial role in global weather patterns by releasing water vapor into the atmosphere, which influences rainfall across South America and even other continents. The Amazon River, which flows through the rainforest, is the second longest river in the world and carries more water than any other river.\n",
      "\n",
      "Efforts to protect the Amazon include international agreements, conservation programs, and sustainable development projects that aim to balance economic growth with environmental protection. Many organizations and governments are working to reduce illegal logging and promote reforestation initiatives.\n",
      "\n",
      "Q: Which countries does the Amazon span across?\n",
      "A: The Amazon rainforest is the largest tropical rainforest in the world, covering approximately 5.5 million square kilometers. It spans across nine countries, including Brazil, Peru, and Colombia. The rainforest is home to around 10% of the known species on Earth, including jaguars, sloths, and thousands of species of insects and birds.\n",
      "\n",
      "Deforestation is a significant threat to the Amazon, with thousands of square kilometers lost each year due to agriculture, logging, and urbanization. This deforestation contributes to climate change, as the rainforest acts as a major carbon sink, absorbing millions of tons of carbon dioxide annually.\n",
      "\n",
      "Indigenous tribes have lived in the Amazon for thousands of years, relying on its rich biodiversity for food, medicine, and shelter. These tribes have unique languages, traditions, and knowledge of the ecosystem. However, many face threats from illegal land encroachment and industrial activities.\n",
      "\n",
      "Scientists believe that the Amazon plays a crucial role in global weather patterns by releasing water vapor into the atmosphere, which influences rainfall across South America and even other continents. The Amazon River, which flows through the rainforest, is the second longest river in the world and carries more water than any other river.\n",
      "\n",
      "Efforts to protect the Amazon include international agreements, conservation programs, and sustainable development projects that aim to balance economic growth with environmental protection. Many organizations and governments are working to reduce illegal logging and promote reforestation initiatives.\n",
      "\n",
      "Q: Why is deforestation a problem in the Amazon?\n",
      "A: The Amazon rainforest is the largest tropical rainforest in the world, covering approximately 5.5 million square kilometers. It spans across nine countries, including Brazil, Peru, and Colombia. The rainforest is home to around 10% of the known species on Earth, including jaguars, sloths, and thousands of species of insects and birds.\n",
      "\n",
      "Deforestation is a significant threat to the Amazon, with thousands of square kilometers lost each year due to agriculture, logging, and urbanization. This deforestation contributes to climate change, as the rainforest acts as a major carbon sink, absorbing millions of tons of carbon dioxide annually.\n",
      "\n",
      "Indigenous tribes have lived in the Amazon for thousands of years, relying on its rich biodiversity for food, medicine, and shelter. These tribes have unique languages, traditions, and knowledge of the ecosystem. However, many face threats from illegal land encroachment and industrial activities.\n",
      "\n",
      "Scientists believe that the Amazon plays a crucial role in global weather patterns by releasing water vapor into the atmosphere, which influences rainfall across South America and even other continents. The Amazon River, which flows through the rainforest, is the second longest river in the world and carries more water than any other river.\n",
      "\n",
      "Efforts to protect the Amazon include international agreements, conservation programs, and sustainable development projects that aim to balance economic growth with environmental protection. Many organizations and governments are working to reduce illegal logging and promote reforestation initiatives.\n",
      "\n",
      "\n",
      "--- Answers with words Chunking ---\n",
      "Q: What is the Amazon rainforest?\n",
      "A: The Amazon rainforest is the largest tropical rainforest in the world, covering approximately 5.5 million square kilometers. It spans across nine countries, including Brazil, Peru, and Colombia. The rainforest is home to around 10% of the known species on Earth, including jaguars, sloths, and thousands of species of insects and\n",
      "\n",
      "Q: Which countries does the Amazon span across?\n",
      "A: in the Amazon for thousands of years, relying on its rich biodiversity for food, medicine, and shelter. These tribes have unique languages, traditions, and knowledge of the ecosystem. However, many face threats from illegal land encroachment and industrial activities. Scientists believe that the Amazon plays a crucial role in global\n",
      "\n",
      "Q: Why is deforestation a problem in the Amazon?\n",
      "A: birds. Deforestation is a significant threat to the Amazon, with thousands of square kilometers lost each year due to agriculture, logging, and urbanization. This deforestation contributes to climate change, as the rainforest acts as a major carbon sink, absorbing millions of tons of carbon dioxide annually. Indigenous tribes have lived\n",
      "\n"
     ]
    }
   ],
   "source": [
    "# Test different chunking strategies\n",
    "print(\"\\n--- Answers with Sentence Chunking ---\")\n",
    "for question in questions[:3]:\n",
    "    answer = answer_question(question, sentences, sentence_embeddings)\n",
    "    print(f\"Q: {question}\")\n",
    "    print(f\"A: {answer}\\n\")\n",
    "\n",
    "print(\"\\n--- Answers with words Chunking ---\")\n",
    "for question in questions[:3]:\n",
    "    answer = answer_question(question, word_chunks, word_chunk_embeddings)\n",
    "    print(f\"Q: {question}\")\n",
    "    print(f\"A: {answer}\\n\")"
   ]
  },
  {
   "cell_type": "markdown",
   "metadata": {},
   "source": [
    "Does asking questions differently give better answers?"
   ]
  },
  {
   "cell_type": "code",
   "execution_count": 12,
   "metadata": {},
   "outputs": [
    {
     "name": "stdout",
     "output_type": "stream",
     "text": [
      "\n",
      "--- Testing Different Question Formulations ---\n",
      "Original Q: What is the Amazon rainforest?\n",
      "Original A: The Amazon rainforest is the largest tropical rainforest in the world, covering approximately 5.5 million square kilometers. It spans across nine countries, including Brazil, Peru, and Colombia. The rainforest is home to around 10% of the known species on Earth, including jaguars, sloths, and thousands of species of insects and birds.\n",
      "Alternative Q: Tell me about the Amazon rainforest.\n",
      "Alternative A: The Amazon rainforest is the largest tropical rainforest in the world, covering approximately 5.5 million square kilometers. It spans across nine countries, including Brazil, Peru, and Colombia. The rainforest is home to around 10% of the known species on Earth, including jaguars, sloths, and thousands of species of insects and birds.\n",
      "\n",
      "Original Q: Which countries does the Amazon span across?\n",
      "Original A: The Amazon rainforest is the largest tropical rainforest in the world, covering approximately 5.5 million square kilometers. It spans across nine countries, including Brazil, Peru, and Colombia. The rainforest is home to around 10% of the known species on Earth, including jaguars, sloths, and thousands of species of insects and birds.\n",
      "Alternative Q: Name the countries where the Amazon is located.\n",
      "Alternative A: The Amazon rainforest is the largest tropical rainforest in the world, covering approximately 5.5 million square kilometers. It spans across nine countries, including Brazil, Peru, and Colombia. The rainforest is home to around 10% of the known species on Earth, including jaguars, sloths, and thousands of species of insects and birds.\n",
      "\n",
      "Original Q: Why is deforestation a problem in the Amazon?\n",
      "Original A: Deforestation is a significant threat to the Amazon, with thousands of square kilometers lost each year due to agriculture, logging, and urbanization. This deforestation contributes to climate change, as the rainforest acts as a major carbon sink, absorbing millions of tons of carbon dioxide annually.\n",
      "Alternative Q: What are the negative effects of Amazon deforestation?\n",
      "Alternative A: Deforestation is a significant threat to the Amazon, with thousands of square kilometers lost each year due to agriculture, logging, and urbanization. This deforestation contributes to climate change, as the rainforest acts as a major carbon sink, absorbing millions of tons of carbon dioxide annually.\n",
      "\n",
      "Original Q: How does the Amazon rainforest affect global weather patterns?\n",
      "Original A: Scientists believe that the Amazon plays a crucial role in global weather patterns by releasing water vapor into the atmosphere, which influences rainfall across South America and even other continents. The Amazon River, which flows through the rainforest, is the second longest river in the world and carries more water than any other river.\n",
      "Alternative Q: Explain how the Amazon influences weather patterns globally.\n",
      "Alternative A: Scientists believe that the Amazon plays a crucial role in global weather patterns by releasing water vapor into the atmosphere, which influences rainfall across South America and even other continents. The Amazon River, which flows through the rainforest, is the second longest river in the world and carries more water than any other river.\n",
      "\n",
      "Original Q: What role do indigenous tribes play in the Amazon?\n",
      "Original A: Indigenous tribes have lived in the Amazon for thousands of years, relying on its rich biodiversity for food, medicine, and shelter. These tribes have unique languages, traditions, and knowledge of the ecosystem. However, many face threats from illegal land encroachment and industrial activities.\n",
      "Alternative Q: How do indigenous people interact with the Amazon ecosystem?\n",
      "Alternative A: Indigenous tribes have lived in the Amazon for thousands of years, relying on its rich biodiversity for food, medicine, and shelter. These tribes have unique languages, traditions, and knowledge of the ecosystem. However, many face threats from illegal land encroachment and industrial activities.\n",
      "\n"
     ]
    }
   ],
   "source": [
    "# Alternative formulations of the same questions\n",
    "alternative_questions = [\n",
    "    \"Tell me about the Amazon rainforest.\",\n",
    "    \"Name the countries where the Amazon is located.\",\n",
    "    \"What are the negative effects of Amazon deforestation?\",\n",
    "    \"Explain how the Amazon influences weather patterns globally.\",\n",
    "    \"How do indigenous people interact with the Amazon ecosystem?\"\n",
    "]\n",
    "\n",
    "print(\"\\n--- Testing Different Question Formulations ---\")\n",
    "for i, alt_q in enumerate(alternative_questions):\n",
    "    original_q = questions[i]\n",
    "    \n",
    "    original_answer = answer_question(original_q, paragraphs, paragraph_embeddings)\n",
    "    alt_answer = answer_question(alt_q, paragraphs, paragraph_embeddings)\n",
    "    \n",
    "    print(f\"Original Q: {original_q}\")\n",
    "    print(f\"Original A: {original_answer}\")\n",
    "    print(f\"Alternative Q: {alt_q}\")\n",
    "    print(f\"Alternative A: {alt_answer}\")\n",
    "    print()"
   ]
  },
  {
   "cell_type": "markdown",
   "metadata": {},
   "source": [
    "Try a different similarity search instead of cosine similarity"
   ]
  },
  {
   "cell_type": "code",
   "execution_count": 13,
   "metadata": {},
   "outputs": [
    {
     "name": "stdout",
     "output_type": "stream",
     "text": [
      "\n",
      "--- Answers with Euclidean Distance ---\n",
      "Q: What is the Amazon rainforest?\n",
      "Cosine Similarity A: The Amazon rainforest is the largest tropical rainforest in the world, covering approximately 5.5 million square kilometers. It spans across nine countries, including Brazil, Peru, and Colombia. The rainforest is home to around 10% of the known species on Earth, including jaguars, sloths, and thousands of species of insects and birds.\n",
      "Euclidean Distance A: The Amazon rainforest is the largest tropical rainforest in the world, covering approximately 5.5 million square kilometers. It spans across nine countries, including Brazil, Peru, and Colombia. The rainforest is home to around 10% of the known species on Earth, including jaguars, sloths, and thousands of species of insects and birds.\n",
      "\n",
      "Q: Which countries does the Amazon span across?\n",
      "Cosine Similarity A: The Amazon rainforest is the largest tropical rainforest in the world, covering approximately 5.5 million square kilometers. It spans across nine countries, including Brazil, Peru, and Colombia. The rainforest is home to around 10% of the known species on Earth, including jaguars, sloths, and thousands of species of insects and birds.\n",
      "Euclidean Distance A: The Amazon rainforest is the largest tropical rainforest in the world, covering approximately 5.5 million square kilometers. It spans across nine countries, including Brazil, Peru, and Colombia. The rainforest is home to around 10% of the known species on Earth, including jaguars, sloths, and thousands of species of insects and birds.\n",
      "\n",
      "Q: Why is deforestation a problem in the Amazon?\n",
      "Cosine Similarity A: Deforestation is a significant threat to the Amazon, with thousands of square kilometers lost each year due to agriculture, logging, and urbanization. This deforestation contributes to climate change, as the rainforest acts as a major carbon sink, absorbing millions of tons of carbon dioxide annually.\n",
      "Euclidean Distance A: Deforestation is a significant threat to the Amazon, with thousands of square kilometers lost each year due to agriculture, logging, and urbanization. This deforestation contributes to climate change, as the rainforest acts as a major carbon sink, absorbing millions of tons of carbon dioxide annually.\n",
      "\n",
      "Q: How does the Amazon rainforest affect global weather patterns?\n",
      "Cosine Similarity A: Scientists believe that the Amazon plays a crucial role in global weather patterns by releasing water vapor into the atmosphere, which influences rainfall across South America and even other continents. The Amazon River, which flows through the rainforest, is the second longest river in the world and carries more water than any other river.\n",
      "Euclidean Distance A: Scientists believe that the Amazon plays a crucial role in global weather patterns by releasing water vapor into the atmosphere, which influences rainfall across South America and even other continents. The Amazon River, which flows through the rainforest, is the second longest river in the world and carries more water than any other river.\n",
      "\n",
      "Q: What role do indigenous tribes play in the Amazon?\n",
      "Cosine Similarity A: Indigenous tribes have lived in the Amazon for thousands of years, relying on its rich biodiversity for food, medicine, and shelter. These tribes have unique languages, traditions, and knowledge of the ecosystem. However, many face threats from illegal land encroachment and industrial activities.\n",
      "Euclidean Distance A: Indigenous tribes have lived in the Amazon for thousands of years, relying on its rich biodiversity for food, medicine, and shelter. These tribes have unique languages, traditions, and knowledge of the ecosystem. However, many face threats from illegal land encroachment and industrial activities.\n",
      "\n"
     ]
    }
   ],
   "source": [
    "# Function to retrieve passages using Euclidean distance\n",
    "def retrieve_passages_euclidean(query, stored_texts, stored_embeddings):\n",
    "    query_embedding = get_embeddings([query])\n",
    "    distances = euclidean_distances(query_embedding, stored_embeddings)[0]\n",
    "    \n",
    "    # Get index of closest passage (smallest distance)\n",
    "    best_match_idx = np.argmin(distances)\n",
    "    \n",
    "    return stored_texts[best_match_idx]\n",
    "\n",
    "# Test with Euclidean distance\n",
    "print(\"\\n--- Answers with Euclidean Distance ---\")\n",
    "for question in questions[:5]:\n",
    "    cosine_answer = retrieve_passages_cosine(question, paragraphs, paragraph_embeddings)\n",
    "    euclidean_answer = retrieve_passages_euclidean(question, paragraphs, paragraph_embeddings)\n",
    "    \n",
    "    print(f\"Q: {question}\")\n",
    "    print(f\"Cosine Similarity A: {cosine_answer}\")\n",
    "    print(f\"Euclidean Distance A: {euclidean_answer}\")\n",
    "    print()"
   ]
  },
  {
   "cell_type": "code",
   "execution_count": 14,
   "metadata": {},
   "outputs": [
    {
     "name": "stdout",
     "output_type": "stream",
     "text": [
      "\n",
      "--- Analysis of Results ---\n",
      "\n",
      "Task 2 - Different Chunking Strategies:\n",
      "- Paragraph chunking: Preserves context but may include irrelevant information\n",
      "- Sentence chunking: More precise but may lose context between sentences\n",
      "- Character chunking: Can break text at arbitrary points, potentially splitting concepts\n",
      "\n",
      "Task 3 - Different Question Formulations:\n",
      "- More specific questions tend to retrieve more relevant passages\n",
      "- Questions with keywords from the text often perform better\n",
      "- The way a question is phrased can significantly impact the retrieved passage\n",
      "\n",
      "Task 4 - Different Similarity Metrics:\n",
      "- Cosine similarity focuses on the direction of vectors (semantic similarity)\n",
      "- Euclidean distance considers both direction and magnitude\n",
      "- Different metrics may be better suited for different types of questions\n"
     ]
    }
   ],
   "source": [
    "# Analysis of results\n",
    "def analyze_results():\n",
    "    print(\"\\n--- Analysis of Results ---\")\n",
    "    \n",
    "    print(\"\\nTask 2 - Different Chunking Strategies:\")\n",
    "    print(\"- Paragraph chunking: Preserves context but may include irrelevant information\")\n",
    "    print(\"- Sentence chunking: More precise but may lose context between sentences\")\n",
    "    print(\"- Character chunking: Can break text at arbitrary points, potentially splitting concepts\")\n",
    "    \n",
    "    print(\"\\nTask 3 - Different Question Formulations:\")\n",
    "    print(\"- More specific questions tend to retrieve more relevant passages\")\n",
    "    print(\"- Questions with keywords from the text often perform better\")\n",
    "    print(\"- The way a question is phrased can significantly impact the retrieved passage\")\n",
    "    \n",
    "    print(\"\\nTask 4 - Different Similarity Metrics:\")\n",
    "    print(\"- Cosine similarity focuses on the direction of vectors (semantic similarity)\")\n",
    "    print(\"- Euclidean distance considers both direction and magnitude\")\n",
    "    print(\"- Different metrics may be better suited for different types of questions\")\n",
    "\n",
    "analyze_results()"
   ]
  },
  {
   "cell_type": "markdown",
   "metadata": {},
   "source": []
  }
 ],
 "metadata": {
  "kernelspec": {
   "display_name": "Python 3",
   "language": "python",
   "name": "python3"
  },
  "language_info": {
   "codemirror_mode": {
    "name": "ipython",
    "version": 3
   },
   "file_extension": ".py",
   "mimetype": "text/x-python",
   "name": "python",
   "nbconvert_exporter": "python",
   "pygments_lexer": "ipython3",
   "version": "3.10.13"
  }
 },
 "nbformat": 4,
 "nbformat_minor": 2
}
