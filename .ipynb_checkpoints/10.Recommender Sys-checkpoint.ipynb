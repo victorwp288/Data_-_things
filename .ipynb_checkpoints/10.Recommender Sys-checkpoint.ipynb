{
 "cells": [
  {
   "cell_type": "code",
   "execution_count": 1,
   "id": "3d3c0397-4224-4784-8a7d-b4fedf3b9b48",
   "metadata": {},
   "outputs": [],
   "source": [
    "import pandas as pd\n",
    "import numpy as np\n",
    "from sklearn.feature_extraction.text import TfidfVectorizer\n",
    "from sklearn.metrics.pairwise import cosine_similarity\n",
    "from sklearn.feature_extraction.text import CountVectorizer"
   ]
  },
  {
   "cell_type": "code",
   "execution_count": 2,
   "id": "2ce19367-74ff-4ec7-9167-40ad935f8d86",
   "metadata": {},
   "outputs": [
    {
     "data": {
      "text/html": [
       "<div>\n",
       "<style scoped>\n",
       "    .dataframe tbody tr th:only-of-type {\n",
       "        vertical-align: middle;\n",
       "    }\n",
       "\n",
       "    .dataframe tbody tr th {\n",
       "        vertical-align: top;\n",
       "    }\n",
       "\n",
       "    .dataframe thead th {\n",
       "        text-align: right;\n",
       "    }\n",
       "</style>\n",
       "<table border=\"1\" class=\"dataframe\">\n",
       "  <thead>\n",
       "    <tr style=\"text-align: right;\">\n",
       "      <th></th>\n",
       "      <th>Course Name</th>\n",
       "      <th>University</th>\n",
       "      <th>Difficulty Level</th>\n",
       "      <th>Course Rating</th>\n",
       "      <th>Course URL</th>\n",
       "      <th>Course Description</th>\n",
       "      <th>Skills</th>\n",
       "    </tr>\n",
       "  </thead>\n",
       "  <tbody>\n",
       "    <tr>\n",
       "      <th>0</th>\n",
       "      <td>Write A Feature Length Screenplay For Film Or ...</td>\n",
       "      <td>Michigan State University</td>\n",
       "      <td>Beginner</td>\n",
       "      <td>4.8</td>\n",
       "      <td>https://www.coursera.org/learn/write-a-feature...</td>\n",
       "      <td>Write a Full Length Feature Film Script  In th...</td>\n",
       "      <td>Drama  Comedy  peering  screenwriting  film  D...</td>\n",
       "    </tr>\n",
       "    <tr>\n",
       "      <th>1</th>\n",
       "      <td>Business Strategy: Business Model Canvas Analy...</td>\n",
       "      <td>Coursera Project Network</td>\n",
       "      <td>Beginner</td>\n",
       "      <td>4.8</td>\n",
       "      <td>https://www.coursera.org/learn/canvas-analysis...</td>\n",
       "      <td>By the end of this guided project, you will be...</td>\n",
       "      <td>Finance  business plan  persona (user experien...</td>\n",
       "    </tr>\n",
       "    <tr>\n",
       "      <th>2</th>\n",
       "      <td>Silicon Thin Film Solar Cells</td>\n",
       "      <td>�cole Polytechnique</td>\n",
       "      <td>Advanced</td>\n",
       "      <td>4.1</td>\n",
       "      <td>https://www.coursera.org/learn/silicon-thin-fi...</td>\n",
       "      <td>This course consists of a general presentation...</td>\n",
       "      <td>chemistry  physics  Solar Energy  film  lambda...</td>\n",
       "    </tr>\n",
       "  </tbody>\n",
       "</table>\n",
       "</div>"
      ],
      "text/plain": [
       "                                         Course Name  \\\n",
       "0  Write A Feature Length Screenplay For Film Or ...   \n",
       "1  Business Strategy: Business Model Canvas Analy...   \n",
       "2                      Silicon Thin Film Solar Cells   \n",
       "\n",
       "                  University Difficulty Level Course Rating  \\\n",
       "0  Michigan State University         Beginner           4.8   \n",
       "1   Coursera Project Network         Beginner           4.8   \n",
       "2        �cole Polytechnique         Advanced           4.1   \n",
       "\n",
       "                                          Course URL  \\\n",
       "0  https://www.coursera.org/learn/write-a-feature...   \n",
       "1  https://www.coursera.org/learn/canvas-analysis...   \n",
       "2  https://www.coursera.org/learn/silicon-thin-fi...   \n",
       "\n",
       "                                  Course Description  \\\n",
       "0  Write a Full Length Feature Film Script  In th...   \n",
       "1  By the end of this guided project, you will be...   \n",
       "2  This course consists of a general presentation...   \n",
       "\n",
       "                                              Skills  \n",
       "0  Drama  Comedy  peering  screenwriting  film  D...  \n",
       "1  Finance  business plan  persona (user experien...  \n",
       "2  chemistry  physics  Solar Energy  film  lambda...  "
      ]
     },
     "execution_count": 2,
     "metadata": {},
     "output_type": "execute_result"
    }
   ],
   "source": [
    "# Load Dataset\n",
    "df = pd.read_csv(\"Coursera.csv\")\n",
    "df.head(3)"
   ]
  },
  {
   "cell_type": "code",
   "execution_count": 3,
   "id": "4e17e568-784d-4dea-9e93-cd56642cafa5",
   "metadata": {},
   "outputs": [
    {
     "name": "stdout",
     "output_type": "stream",
     "text": [
      "<class 'pandas.core.frame.DataFrame'>\n",
      "RangeIndex: 3522 entries, 0 to 3521\n",
      "Data columns (total 7 columns):\n",
      " #   Column              Non-Null Count  Dtype \n",
      "---  ------              --------------  ----- \n",
      " 0   Course Name         3522 non-null   object\n",
      " 1   University          3522 non-null   object\n",
      " 2   Difficulty Level    3522 non-null   object\n",
      " 3   Course Rating       3522 non-null   object\n",
      " 4   Course URL          3522 non-null   object\n",
      " 5   Course Description  3522 non-null   object\n",
      " 6   Skills              3522 non-null   object\n",
      "dtypes: object(7)\n",
      "memory usage: 192.7+ KB\n"
     ]
    }
   ],
   "source": [
    "#Checking for Null values\n",
    "df.info()"
   ]
  },
  {
   "cell_type": "code",
   "execution_count": 4,
   "id": "b1e7bb71-cd9a-47ae-9bd9-946379f3d091",
   "metadata": {},
   "outputs": [
    {
     "data": {
      "text/plain": [
       "0    Write a Full Length Feature Film Script  In th...\n",
       "1    By the end of this guided project, you will be...\n",
       "2    This course consists of a general presentation...\n",
       "Name: Course Description, dtype: object"
      ]
     },
     "execution_count": 4,
     "metadata": {},
     "output_type": "execute_result"
    }
   ],
   "source": [
    "df['Course Description'].head(3)"
   ]
  },
  {
   "cell_type": "code",
   "execution_count": 5,
   "id": "d48eaa29-6605-4bc5-936a-74ee35a58f3a",
   "metadata": {},
   "outputs": [
    {
     "data": {
      "text/plain": [
       "0    Drama  Comedy  peering  screenwriting  film  D...\n",
       "1    Finance  business plan  persona (user experien...\n",
       "2    chemistry  physics  Solar Energy  film  lambda...\n",
       "Name: Skills, dtype: object"
      ]
     },
     "execution_count": 5,
     "metadata": {},
     "output_type": "execute_result"
    }
   ],
   "source": [
    "df['Skills'].head(3)"
   ]
  },
  {
   "cell_type": "markdown",
   "id": "26faffc2-d356-4389-a4ae-36e9eb0306e1",
   "metadata": {},
   "source": [
    "The content of both of the above columns are in plain text and are therefore not directly compareable with each other. We can use the Term Frequency-Inverse Document Frequency (TF-IDF) to score words based on how often they appear in a given course based on how often it appears in other courses."
   ]
  },
  {
   "cell_type": "code",
   "execution_count": 6,
   "id": "f1fdad4f-d449-47c5-afca-67a5c5a7cc3b",
   "metadata": {},
   "outputs": [
    {
     "data": {
      "text/plain": [
       "(3522, 20074)"
      ]
     },
     "execution_count": 6,
     "metadata": {},
     "output_type": "execute_result"
    }
   ],
   "source": [
    "#Define a TF-IDF Vectorizer Object. Remove all english stop words such as 'the', 'a'\n",
    "tfidf = TfidfVectorizer(stop_words='english')\n",
    "\n",
    "#Construct the required TF-IDF matrix by fitting and transforming the data\n",
    "tfidf_matrix = tfidf.fit_transform(df['Course Description'])\n",
    "\n",
    "#Output the shape of tfidf_matrix\n",
    "tfidf_matrix.shape"
   ]
  },
  {
   "cell_type": "code",
   "execution_count": 7,
   "id": "acbd47d0-18b6-4705-9688-6e99cb84916c",
   "metadata": {},
   "outputs": [
    {
     "data": {
      "text/plain": [
       "array([[0., 0., 0., ..., 0., 0., 0.]])"
      ]
     },
     "execution_count": 7,
     "metadata": {},
     "output_type": "execute_result"
    }
   ],
   "source": [
    "row_array = tfidf_matrix.getrow(1).toarray()\n",
    "row_array"
   ]
  },
  {
   "cell_type": "code",
   "execution_count": 8,
   "id": "9dd404e1-2c02-4428-a15d-5cd0b9f69f27",
   "metadata": {},
   "outputs": [
    {
     "name": "stdout",
     "output_type": "stream",
     "text": [
      "CPU times: total: 281 ms\n",
      "Wall time: 294 ms\n"
     ]
    }
   ],
   "source": [
    "%%time\n",
    "cosine_sim = cosine_similarity(tfidf_matrix, tfidf_matrix)"
   ]
  },
  {
   "cell_type": "code",
   "execution_count": 9,
   "id": "4f307573-2b06-4ad1-bc8f-b6123846b9a8",
   "metadata": {},
   "outputs": [
    {
     "data": {
      "text/plain": [
       "array([[1.00000000e+00, 3.12366523e-02, 1.97603991e-02, ...,\n",
       "        3.17538002e-02, 3.33859933e-02, 1.96231367e-02],\n",
       "       [3.12366523e-02, 1.00000000e+00, 8.58915185e-03, ...,\n",
       "        3.13671991e-02, 4.88239107e-03, 4.56033552e-02],\n",
       "       [1.97603991e-02, 8.58915185e-03, 1.00000000e+00, ...,\n",
       "        3.45669421e-03, 1.65197252e-02, 6.37237740e-03],\n",
       "       ...,\n",
       "       [3.17538002e-02, 3.13671991e-02, 3.45669421e-03, ...,\n",
       "        1.00000000e+00, 5.07544593e-04, 6.72367274e-03],\n",
       "       [3.33859933e-02, 4.88239107e-03, 1.65197252e-02, ...,\n",
       "        5.07544593e-04, 1.00000000e+00, 1.14068789e-03],\n",
       "       [1.96231367e-02, 4.56033552e-02, 6.37237740e-03, ...,\n",
       "        6.72367274e-03, 1.14068789e-03, 1.00000000e+00]])"
      ]
     },
     "execution_count": 9,
     "metadata": {},
     "output_type": "execute_result"
    }
   ],
   "source": [
    "cosine_sim"
   ]
  },
  {
   "cell_type": "code",
   "execution_count": 10,
   "id": "525bbc53-aa36-4772-9ce3-d57093d223f8",
   "metadata": {},
   "outputs": [
    {
     "data": {
      "text/plain": [
       "(3522, 3522)"
      ]
     },
     "execution_count": 10,
     "metadata": {},
     "output_type": "execute_result"
    }
   ],
   "source": [
    "cosine_sim.shape"
   ]
  },
  {
   "cell_type": "markdown",
   "id": "128cd34e-d31b-4baf-9287-201a44661002",
   "metadata": {},
   "source": [
    "This matrix is symetric in the sense that cosine_sim[0, 1] tell us how much the first movie (index 0) is similar to the second movie (index 1), which returns the exact same value as cosine_sim[1, 0], since that would compare the same two movies. We will test this in the two lines below"
   ]
  },
  {
   "cell_type": "code",
   "execution_count": 11,
   "id": "eea1031a-55ce-4b63-a14a-1e47110c951c",
   "metadata": {},
   "outputs": [
    {
     "data": {
      "text/plain": [
       "np.float64(0.0312366522978012)"
      ]
     },
     "execution_count": 11,
     "metadata": {},
     "output_type": "execute_result"
    }
   ],
   "source": [
    "cosine_sim[0, 1]"
   ]
  },
  {
   "cell_type": "code",
   "execution_count": 12,
   "id": "24177265-996d-4d55-8d14-59c442764871",
   "metadata": {},
   "outputs": [
    {
     "data": {
      "text/plain": [
       "np.float64(0.0312366522978012)"
      ]
     },
     "execution_count": 12,
     "metadata": {},
     "output_type": "execute_result"
    }
   ],
   "source": [
    "cosine_sim[1, 0]"
   ]
  },
  {
   "cell_type": "markdown",
   "id": "13707778-0f3f-4283-9317-651469e1aae2",
   "metadata": {},
   "source": [
    "To see if the corresponding courses in the dataset, we will use a reverse map of index to course names."
   ]
  },
  {
   "cell_type": "code",
   "execution_count": 13,
   "id": "d5b90263-5001-43c9-a2e9-3f94f1c39679",
   "metadata": {},
   "outputs": [
    {
     "data": {
      "text/plain": [
       "Course Name\n",
       "Write A Feature Length Screenplay For Film Or Television                                         0\n",
       "Business Strategy: Business Model Canvas Analysis with Miro                                      1\n",
       "Silicon Thin Film Solar Cells                                                                    2\n",
       "Finance for Managers                                                                             3\n",
       "Retrieve Data using Single-Table SQL Queries                                                     4\n",
       "Building Test Automation Framework using Selenium and TestNG                                     5\n",
       "Doing Business in China Capstone                                                                 6\n",
       "Programming Languages, Part A                                                                    7\n",
       "The Roles and Responsibilities of Nonprofit Boards of Directors within the Governance Process    8\n",
       "Business Russian Communication. Part 3                                                           9\n",
       "dtype: int64"
      ]
     },
     "execution_count": 13,
     "metadata": {},
     "output_type": "execute_result"
    }
   ],
   "source": [
    "#Construct a reverse map of indices and Course Names\n",
    "indices = pd.Series(df.index, index=df['Course Name']).drop_duplicates()\n",
    "indices[0:10]"
   ]
  },
  {
   "cell_type": "markdown",
   "id": "f0a63b62-1597-485f-85da-35661e99c046",
   "metadata": {},
   "source": [
    "Here we can see that the similarity cosine_sim[0,1] is the similarity between \n",
    "'Write A Feature Length Screenplay For Film Or Television' and 'Business Strategy: Business Model Canvas Analysis with Miro    '"
   ]
  },
  {
   "cell_type": "markdown",
   "id": "b87f66df-b238-4bc0-a2d9-bdb3aca6ffe2",
   "metadata": {},
   "source": [
    "Defining a recommender function that takes in a course description and returns the ten most similar courses"
   ]
  },
  {
   "cell_type": "code",
   "execution_count": 14,
   "id": "cd631090-e11e-4dc7-91c1-29481480af4c",
   "metadata": {},
   "outputs": [],
   "source": [
    "# Function that takes in Course Name as input and outputs most similar courses\n",
    "def get_recommendations(CourseName, cosine_sim=cosine_sim):\n",
    "    # Get the index of the movie that matches the title\n",
    "    idx = indices[CourseName]\n",
    "\n",
    "    # Get the pairwsie similarity scores of all courses with that course\n",
    "    sim_scores = list(enumerate(cosine_sim[idx]))\n",
    "\n",
    "    # Sort the courses based on the similarity scores\n",
    "    sim_scores = sorted(sim_scores, key=lambda x: x[1], reverse=True)\n",
    "\n",
    "    # Get the scores of the 10 most similar courses\n",
    "    sim_scores = sim_scores[1:11]\n",
    "\n",
    "    # Get the course indices\n",
    "    course_indices = [i[0] for i in sim_scores]\n",
    "\n",
    "    # Return the top 10 most similar movies\n",
    "    return df['Course Name'].iloc[course_indices]"
   ]
  },
  {
   "cell_type": "code",
   "execution_count": 15,
   "id": "bde1f7b3-790c-446e-af55-c7fe8e707da0",
   "metadata": {},
   "outputs": [
    {
     "data": {
      "text/plain": [
       "1839    Fundamentals of financial and management accou...\n",
       "1891          Accounting and Finance for IT professionals\n",
       "1985                  Introduction to Finance: The Basics\n",
       "419                    Finance for Non-Financial Managers\n",
       "1164                         Corporate Finance Essentials\n",
       "708     Understanding Financial Statements: Company Po...\n",
       "1090                    Financial Accounting Fundamentals\n",
       "590                Corporate finance: Know your numbers 2\n",
       "3119    Introduction to Finance: The Role of Financial...\n",
       "3463    Operations Management: Analysis and Improvemen...\n",
       "Name: Course Name, dtype: object"
      ]
     },
     "execution_count": 15,
     "metadata": {},
     "output_type": "execute_result"
    }
   ],
   "source": [
    "get_recommendations('Finance for Managers')"
   ]
  },
  {
   "cell_type": "code",
   "execution_count": 16,
   "id": "548d5c34-7507-4aa3-b9e9-99d81ba8d67e",
   "metadata": {},
   "outputs": [
    {
     "data": {
      "text/plain": [
       "1481    Script Writing: Write a Pilot Episode for a TV...\n",
       "1629                               Write Your First Novel\n",
       "3481                                   Transmedia Writing\n",
       "2186         Presentation skills: Public Speaking Project\n",
       "3445                   Better Business Writing in English\n",
       "3384              English for Effective  Business Writing\n",
       "2894    Automating Team Communication with Google Shee...\n",
       "614                      Writing in English at University\n",
       "2732    Writing Professional Email and Memos (Project-...\n",
       "104                                      Business Writing\n",
       "Name: Course Name, dtype: object"
      ]
     },
     "execution_count": 16,
     "metadata": {},
     "output_type": "execute_result"
    }
   ],
   "source": [
    "get_recommendations('Write A Feature Length Screenplay For Film Or Television')"
   ]
  },
  {
   "cell_type": "markdown",
   "id": "be35efdd-0bb4-4e6e-8ce6-3f2b080bad9f",
   "metadata": {},
   "source": [
    "Now to do the same for skills we will initialize a tfidf for the skills column"
   ]
  },
  {
   "cell_type": "code",
   "execution_count": 17,
   "id": "a81af5df-e895-41e1-93b9-33c4d43aa0e3",
   "metadata": {},
   "outputs": [
    {
     "data": {
      "text/plain": [
       "(3522, 4337)"
      ]
     },
     "execution_count": 17,
     "metadata": {},
     "output_type": "execute_result"
    }
   ],
   "source": [
    "#Construct the required TF-IDF matrix by fitting and transforming the data\n",
    "tfidf_matrix_skills = tfidf.fit_transform(df['Skills'])\n",
    "\n",
    "#Output the shape of tfidf_matrix\n",
    "tfidf_matrix_skills.shape"
   ]
  },
  {
   "cell_type": "code",
   "execution_count": 18,
   "id": "1e5fe68d-6d3b-4453-a7df-fe984956b07e",
   "metadata": {},
   "outputs": [
    {
     "name": "stdout",
     "output_type": "stream",
     "text": [
      "CPU times: total: 172 ms\n",
      "Wall time: 172 ms\n"
     ]
    }
   ],
   "source": [
    "%%time\n",
    "cosine_sim_skills = cosine_similarity(tfidf_matrix_skills, tfidf_matrix_skills)"
   ]
  },
  {
   "cell_type": "code",
   "execution_count": 19,
   "id": "abd1d008-a35b-4c20-aa64-c7f9b9070cdd",
   "metadata": {},
   "outputs": [
    {
     "data": {
      "text/plain": [
       "(3522, 3522)"
      ]
     },
     "execution_count": 19,
     "metadata": {},
     "output_type": "execute_result"
    }
   ],
   "source": [
    "cosine_sim_skills.shape"
   ]
  },
  {
   "cell_type": "code",
   "execution_count": 20,
   "id": "67c2c1b4-aa04-4edc-b948-9828cc2f6cf0",
   "metadata": {},
   "outputs": [],
   "source": [
    "# Function that takes in Course Name as input and outputs most similar courses\n",
    "def get_recommendations_skills(Skills, cosine_sim=cosine_sim):\n",
    "    # Get the index of the movie that matches the title\n",
    "    idx = indices[Skills]\n",
    "\n",
    "    # Get the pairwsie similarity scores of all courses with that course\n",
    "    sim_scores = list(enumerate(cosine_sim[idx]))\n",
    "\n",
    "    # Sort the courses based on the similarity scores\n",
    "    sim_scores = sorted(sim_scores, key=lambda x: x[1], reverse=True)\n",
    "\n",
    "    # Get the scores of the 10 most similar courses\n",
    "    sim_scores = sim_scores[1:11]\n",
    "\n",
    "    # Get the course indices\n",
    "    skill_indices = [i[0] for i in sim_scores]\n",
    "\n",
    "    # Return the top 10 most similar movies\n",
    "    return df['Skills'].iloc[skill_indices]"
   ]
  },
  {
   "cell_type": "code",
   "execution_count": 21,
   "id": "28b22aaa-895a-438f-8814-21f9be9b40f2",
   "metadata": {},
   "outputs": [
    {
     "data": {
      "text/plain": [
       "1839    Management Accounting  contribution margin  ev...\n",
       "1891    capital budgeting  future value  net income  A...\n",
       "1985    mortgage loan  financial statement  asset mana...\n",
       "419     balance sheet  income statement  income  prese...\n",
       "1164    Economics  Finance  investment  evaluation  Ec...\n",
       "708     fundamental analysis  asset  balance sheet  cu...\n",
       "1090    Finance  cash flow statement  balance sheet  i...\n",
       "590     capital adequacy ratio  numbers (spreadsheet) ...\n",
       "3119    capital budgeting  common stock  cash flow  pr...\n",
       "3463    Inventory Management  Trigonometric Integral  ...\n",
       "Name: Skills, dtype: object"
      ]
     },
     "execution_count": 21,
     "metadata": {},
     "output_type": "execute_result"
    }
   ],
   "source": [
    "get_recommendations_skills('Finance for Managers')"
   ]
  },
  {
   "cell_type": "code",
   "execution_count": 22,
   "id": "f701cdfd-843d-45e6-84be-f1cc2295b3cb",
   "metadata": {},
   "outputs": [
    {
     "data": {
      "text/plain": [
       "1481    bible  film  film studies  Cinematography  Wri...\n",
       "1629    art  Interior Design  Fiction Writing  languag...\n",
       "3481    Fiction Writing  film  Writing  determination ...\n",
       "2186    Peer Review  project  public speaking  write-o...\n",
       "3445    Writing  Office Administration  business admin...\n",
       "3384    Communication  Business Writing  email  Busine...\n",
       "2894    google apps script  project  Planning  email  ...\n",
       "614     language  ordered pair  Proofreading  essay wr...\n",
       "2732    grammar  email writing  Note Taking  Writing  ...\n",
       "104     Business Writing  email writing  Writing  engl...\n",
       "Name: Skills, dtype: object"
      ]
     },
     "execution_count": 22,
     "metadata": {},
     "output_type": "execute_result"
    }
   ],
   "source": [
    "get_recommendations_skills('Write A Feature Length Screenplay For Film Or Television')"
   ]
  },
  {
   "cell_type": "markdown",
   "id": "f706132c-fbc7-4550-8850-1dbf08ee41e1",
   "metadata": {},
   "source": [
    "## 3 and 4"
   ]
  },
  {
   "cell_type": "markdown",
   "id": "f97b4b26-0451-41cf-82cf-8a728a492753",
   "metadata": {},
   "source": [
    "3."
   ]
  },
  {
   "cell_type": "code",
   "execution_count": 23,
   "id": "c52c936d-1ba5-4a67-85d0-425219a30298",
   "metadata": {},
   "outputs": [
    {
     "data": {
      "text/html": [
       "<div>\n",
       "<style scoped>\n",
       "    .dataframe tbody tr th:only-of-type {\n",
       "        vertical-align: middle;\n",
       "    }\n",
       "\n",
       "    .dataframe tbody tr th {\n",
       "        vertical-align: top;\n",
       "    }\n",
       "\n",
       "    .dataframe thead th {\n",
       "        text-align: right;\n",
       "    }\n",
       "</style>\n",
       "<table border=\"1\" class=\"dataframe\">\n",
       "  <thead>\n",
       "    <tr style=\"text-align: right;\">\n",
       "      <th></th>\n",
       "      <th>User-ID</th>\n",
       "      <th>ISBN</th>\n",
       "      <th>Book-Rating</th>\n",
       "    </tr>\n",
       "  </thead>\n",
       "  <tbody>\n",
       "    <tr>\n",
       "      <th>0</th>\n",
       "      <td>276725</td>\n",
       "      <td>034545104X</td>\n",
       "      <td>0</td>\n",
       "    </tr>\n",
       "    <tr>\n",
       "      <th>1</th>\n",
       "      <td>276726</td>\n",
       "      <td>0155061224</td>\n",
       "      <td>5</td>\n",
       "    </tr>\n",
       "    <tr>\n",
       "      <th>2</th>\n",
       "      <td>276727</td>\n",
       "      <td>0446520802</td>\n",
       "      <td>0</td>\n",
       "    </tr>\n",
       "  </tbody>\n",
       "</table>\n",
       "</div>"
      ],
      "text/plain": [
       "   User-ID        ISBN  Book-Rating\n",
       "0   276725  034545104X            0\n",
       "1   276726  0155061224            5\n",
       "2   276727  0446520802            0"
      ]
     },
     "execution_count": 23,
     "metadata": {},
     "output_type": "execute_result"
    }
   ],
   "source": [
    "# Load Datasets\n",
    "ratings_df = pd.read_csv(\"Books_Ratings.csv\")\n",
    "ratings_df.head(3)"
   ]
  },
  {
   "cell_type": "code",
   "execution_count": 24,
   "id": "658eda48-c52f-42c6-852c-3cb5c9de9bac",
   "metadata": {},
   "outputs": [
    {
     "name": "stderr",
     "output_type": "stream",
     "text": [
      "C:\\Users\\Holte\\AppData\\Local\\Temp\\ipykernel_9492\\169217562.py:1: DtypeWarning: Columns (3) have mixed types. Specify dtype option on import or set low_memory=False.\n",
      "  books_df = pd.read_csv(\"Books.csv\")\n"
     ]
    },
    {
     "data": {
      "text/html": [
       "<div>\n",
       "<style scoped>\n",
       "    .dataframe tbody tr th:only-of-type {\n",
       "        vertical-align: middle;\n",
       "    }\n",
       "\n",
       "    .dataframe tbody tr th {\n",
       "        vertical-align: top;\n",
       "    }\n",
       "\n",
       "    .dataframe thead th {\n",
       "        text-align: right;\n",
       "    }\n",
       "</style>\n",
       "<table border=\"1\" class=\"dataframe\">\n",
       "  <thead>\n",
       "    <tr style=\"text-align: right;\">\n",
       "      <th></th>\n",
       "      <th>ISBN</th>\n",
       "      <th>Book-Title</th>\n",
       "      <th>Book-Author</th>\n",
       "      <th>Year-Of-Publication</th>\n",
       "      <th>Publisher</th>\n",
       "      <th>Image-URL-S</th>\n",
       "      <th>Image-URL-M</th>\n",
       "      <th>Image-URL-L</th>\n",
       "    </tr>\n",
       "  </thead>\n",
       "  <tbody>\n",
       "    <tr>\n",
       "      <th>0</th>\n",
       "      <td>0195153448</td>\n",
       "      <td>Classical Mythology</td>\n",
       "      <td>Mark P. O. Morford</td>\n",
       "      <td>2002</td>\n",
       "      <td>Oxford University Press</td>\n",
       "      <td>http://images.amazon.com/images/P/0195153448.0...</td>\n",
       "      <td>http://images.amazon.com/images/P/0195153448.0...</td>\n",
       "      <td>http://images.amazon.com/images/P/0195153448.0...</td>\n",
       "    </tr>\n",
       "    <tr>\n",
       "      <th>1</th>\n",
       "      <td>0002005018</td>\n",
       "      <td>Clara Callan</td>\n",
       "      <td>Richard Bruce Wright</td>\n",
       "      <td>2001</td>\n",
       "      <td>HarperFlamingo Canada</td>\n",
       "      <td>http://images.amazon.com/images/P/0002005018.0...</td>\n",
       "      <td>http://images.amazon.com/images/P/0002005018.0...</td>\n",
       "      <td>http://images.amazon.com/images/P/0002005018.0...</td>\n",
       "    </tr>\n",
       "    <tr>\n",
       "      <th>2</th>\n",
       "      <td>0060973129</td>\n",
       "      <td>Decision in Normandy</td>\n",
       "      <td>Carlo D'Este</td>\n",
       "      <td>1991</td>\n",
       "      <td>HarperPerennial</td>\n",
       "      <td>http://images.amazon.com/images/P/0060973129.0...</td>\n",
       "      <td>http://images.amazon.com/images/P/0060973129.0...</td>\n",
       "      <td>http://images.amazon.com/images/P/0060973129.0...</td>\n",
       "    </tr>\n",
       "  </tbody>\n",
       "</table>\n",
       "</div>"
      ],
      "text/plain": [
       "         ISBN            Book-Title           Book-Author Year-Of-Publication  \\\n",
       "0  0195153448   Classical Mythology    Mark P. O. Morford                2002   \n",
       "1  0002005018          Clara Callan  Richard Bruce Wright                2001   \n",
       "2  0060973129  Decision in Normandy          Carlo D'Este                1991   \n",
       "\n",
       "                 Publisher                                        Image-URL-S  \\\n",
       "0  Oxford University Press  http://images.amazon.com/images/P/0195153448.0...   \n",
       "1    HarperFlamingo Canada  http://images.amazon.com/images/P/0002005018.0...   \n",
       "2          HarperPerennial  http://images.amazon.com/images/P/0060973129.0...   \n",
       "\n",
       "                                         Image-URL-M  \\\n",
       "0  http://images.amazon.com/images/P/0195153448.0...   \n",
       "1  http://images.amazon.com/images/P/0002005018.0...   \n",
       "2  http://images.amazon.com/images/P/0060973129.0...   \n",
       "\n",
       "                                         Image-URL-L  \n",
       "0  http://images.amazon.com/images/P/0195153448.0...  \n",
       "1  http://images.amazon.com/images/P/0002005018.0...  \n",
       "2  http://images.amazon.com/images/P/0060973129.0...  "
      ]
     },
     "execution_count": 24,
     "metadata": {},
     "output_type": "execute_result"
    }
   ],
   "source": [
    "books_df = pd.read_csv(\"Books.csv\")\n",
    "books_df.head(3)"
   ]
  },
  {
   "cell_type": "markdown",
   "id": "738574b3-6645-4748-958f-3dda2236e9cd",
   "metadata": {},
   "source": [
    "As both of the datasets contain an ISBN column we can join the dataset on this column"
   ]
  },
  {
   "cell_type": "code",
   "execution_count": 25,
   "id": "efbfd28b-7b45-4253-8185-4e6ee4c93f15",
   "metadata": {},
   "outputs": [],
   "source": [
    "# Ensure ISBNs are strings for proper merging\n",
    "ratings_df[\"ISBN\"] = ratings_df[\"ISBN\"].astype(str)\n",
    "books_df[\"ISBN\"] = books_df[\"ISBN\"].astype(str)"
   ]
  },
  {
   "cell_type": "code",
   "execution_count": 26,
   "id": "e450eb9c-f5af-4551-af0b-03ff95176910",
   "metadata": {},
   "outputs": [],
   "source": [
    "rating_df = ratings_df.merge(books_df[[\"ISBN\", \"Book-Title\"]], on=\"ISBN\")\n"
   ]
  },
  {
   "cell_type": "code",
   "execution_count": 27,
   "id": "cea3c860-0ec9-4ff7-ae26-6275d4e536c6",
   "metadata": {},
   "outputs": [
    {
     "data": {
      "text/html": [
       "<div>\n",
       "<style scoped>\n",
       "    .dataframe tbody tr th:only-of-type {\n",
       "        vertical-align: middle;\n",
       "    }\n",
       "\n",
       "    .dataframe tbody tr th {\n",
       "        vertical-align: top;\n",
       "    }\n",
       "\n",
       "    .dataframe thead th {\n",
       "        text-align: right;\n",
       "    }\n",
       "</style>\n",
       "<table border=\"1\" class=\"dataframe\">\n",
       "  <thead>\n",
       "    <tr style=\"text-align: right;\">\n",
       "      <th></th>\n",
       "      <th>User-ID</th>\n",
       "      <th>ISBN</th>\n",
       "      <th>Book-Rating</th>\n",
       "      <th>Book-Title</th>\n",
       "    </tr>\n",
       "  </thead>\n",
       "  <tbody>\n",
       "    <tr>\n",
       "      <th>0</th>\n",
       "      <td>276725</td>\n",
       "      <td>034545104X</td>\n",
       "      <td>0</td>\n",
       "      <td>Flesh Tones: A Novel</td>\n",
       "    </tr>\n",
       "    <tr>\n",
       "      <th>1</th>\n",
       "      <td>276726</td>\n",
       "      <td>0155061224</td>\n",
       "      <td>5</td>\n",
       "      <td>Rites of Passage</td>\n",
       "    </tr>\n",
       "    <tr>\n",
       "      <th>2</th>\n",
       "      <td>276727</td>\n",
       "      <td>0446520802</td>\n",
       "      <td>0</td>\n",
       "      <td>The Notebook</td>\n",
       "    </tr>\n",
       "  </tbody>\n",
       "</table>\n",
       "</div>"
      ],
      "text/plain": [
       "   User-ID        ISBN  Book-Rating            Book-Title\n",
       "0   276725  034545104X            0  Flesh Tones: A Novel\n",
       "1   276726  0155061224            5      Rites of Passage\n",
       "2   276727  0446520802            0          The Notebook"
      ]
     },
     "execution_count": 27,
     "metadata": {},
     "output_type": "execute_result"
    }
   ],
   "source": [
    "rating_df.head(3)"
   ]
  },
  {
   "cell_type": "code",
   "execution_count": 28,
   "id": "60fd5e09-370d-4ed6-b54b-53aa811cfcf2",
   "metadata": {},
   "outputs": [
    {
     "name": "stdout",
     "output_type": "stream",
     "text": [
      "<class 'pandas.core.frame.DataFrame'>\n",
      "RangeIndex: 1031136 entries, 0 to 1031135\n",
      "Data columns (total 4 columns):\n",
      " #   Column       Non-Null Count    Dtype \n",
      "---  ------       --------------    ----- \n",
      " 0   User-ID      1031136 non-null  int64 \n",
      " 1   ISBN         1031136 non-null  object\n",
      " 2   Book-Rating  1031136 non-null  int64 \n",
      " 3   Book-Title   1031136 non-null  object\n",
      "dtypes: int64(2), object(2)\n",
      "memory usage: 31.5+ MB\n"
     ]
    }
   ],
   "source": [
    "rating_df.info()"
   ]
  },
  {
   "cell_type": "code",
   "execution_count": 29,
   "id": "11e8f2b5-90a0-4318-8bc1-5b89f4c28ba5",
   "metadata": {},
   "outputs": [
    {
     "data": {
      "text/plain": [
       "User-ID         92106\n",
       "ISBN           270151\n",
       "Book-Rating        11\n",
       "Book-Title     241071\n",
       "dtype: int64"
      ]
     },
     "execution_count": 29,
     "metadata": {},
     "output_type": "execute_result"
    }
   ],
   "source": [
    "rating_df.nunique()"
   ]
  },
  {
   "cell_type": "markdown",
   "id": "e468273d-8531-4c16-9495-89ddb9d66ce5",
   "metadata": {},
   "source": [
    "Since we want to sort the users based on how many ratings they have given, we will drop"
   ]
  },
  {
   "cell_type": "markdown",
   "id": "99593173-541c-49f3-abaf-82e41c668033",
   "metadata": {},
   "source": [
    "Next we sort the users based on how many book-ratings that they have given. To do this we will group by the User-ID and a a new feature holding the amount of Book-Ratings the specific user has given"
   ]
  },
  {
   "cell_type": "code",
   "execution_count": 30,
   "id": "e8126eaa-67ad-4c94-b467-7e7067976348",
   "metadata": {},
   "outputs": [
    {
     "data": {
      "text/html": [
       "<div>\n",
       "<style scoped>\n",
       "    .dataframe tbody tr th:only-of-type {\n",
       "        vertical-align: middle;\n",
       "    }\n",
       "\n",
       "    .dataframe tbody tr th {\n",
       "        vertical-align: top;\n",
       "    }\n",
       "\n",
       "    .dataframe thead th {\n",
       "        text-align: right;\n",
       "    }\n",
       "</style>\n",
       "<table border=\"1\" class=\"dataframe\">\n",
       "  <thead>\n",
       "    <tr style=\"text-align: right;\">\n",
       "      <th></th>\n",
       "      <th>User-ID</th>\n",
       "      <th>ISBN</th>\n",
       "      <th>Book-Rating</th>\n",
       "      <th>Book-Title</th>\n",
       "      <th>Book-Rating-Count</th>\n",
       "    </tr>\n",
       "  </thead>\n",
       "  <tbody>\n",
       "    <tr>\n",
       "      <th>0</th>\n",
       "      <td>276725</td>\n",
       "      <td>034545104X</td>\n",
       "      <td>0</td>\n",
       "      <td>Flesh Tones: A Novel</td>\n",
       "      <td>1</td>\n",
       "    </tr>\n",
       "    <tr>\n",
       "      <th>1</th>\n",
       "      <td>276726</td>\n",
       "      <td>0155061224</td>\n",
       "      <td>5</td>\n",
       "      <td>Rites of Passage</td>\n",
       "      <td>1</td>\n",
       "    </tr>\n",
       "    <tr>\n",
       "      <th>2</th>\n",
       "      <td>276727</td>\n",
       "      <td>0446520802</td>\n",
       "      <td>0</td>\n",
       "      <td>The Notebook</td>\n",
       "      <td>1</td>\n",
       "    </tr>\n",
       "    <tr>\n",
       "      <th>3</th>\n",
       "      <td>276729</td>\n",
       "      <td>052165615X</td>\n",
       "      <td>3</td>\n",
       "      <td>Help!: Level 1</td>\n",
       "      <td>2</td>\n",
       "    </tr>\n",
       "    <tr>\n",
       "      <th>4</th>\n",
       "      <td>276729</td>\n",
       "      <td>0521795028</td>\n",
       "      <td>6</td>\n",
       "      <td>The Amsterdam Connection : Level 4 (Cambridge ...</td>\n",
       "      <td>2</td>\n",
       "    </tr>\n",
       "  </tbody>\n",
       "</table>\n",
       "</div>"
      ],
      "text/plain": [
       "   User-ID        ISBN  Book-Rating  \\\n",
       "0   276725  034545104X            0   \n",
       "1   276726  0155061224            5   \n",
       "2   276727  0446520802            0   \n",
       "3   276729  052165615X            3   \n",
       "4   276729  0521795028            6   \n",
       "\n",
       "                                          Book-Title  Book-Rating-Count  \n",
       "0                               Flesh Tones: A Novel                  1  \n",
       "1                                   Rites of Passage                  1  \n",
       "2                                       The Notebook                  1  \n",
       "3                                     Help!: Level 1                  2  \n",
       "4  The Amsterdam Connection : Level 4 (Cambridge ...                  2  "
      ]
     },
     "execution_count": 30,
     "metadata": {},
     "output_type": "execute_result"
    }
   ],
   "source": [
    "rating_df[\"Book-Rating-Count\"] = (rating_df.groupby(\"User-ID\")[\"Book-Rating\"].transform('count'))\n",
    "rating_df.head()"
   ]
  },
  {
   "cell_type": "markdown",
   "id": "4d06235a-e8b2-47fe-83c6-349b7083bbbd",
   "metadata": {},
   "source": [
    "Now we will sort the users based on the column Book-Rating-Count"
   ]
  },
  {
   "cell_type": "code",
   "execution_count": 31,
   "id": "2e9b7001-65a9-459d-93e5-648e9ce44159",
   "metadata": {},
   "outputs": [
    {
     "data": {
      "text/html": [
       "<div>\n",
       "<style scoped>\n",
       "    .dataframe tbody tr th:only-of-type {\n",
       "        vertical-align: middle;\n",
       "    }\n",
       "\n",
       "    .dataframe tbody tr th {\n",
       "        vertical-align: top;\n",
       "    }\n",
       "\n",
       "    .dataframe thead th {\n",
       "        text-align: right;\n",
       "    }\n",
       "</style>\n",
       "<table border=\"1\" class=\"dataframe\">\n",
       "  <thead>\n",
       "    <tr style=\"text-align: right;\">\n",
       "      <th></th>\n",
       "      <th>User-ID</th>\n",
       "      <th>ISBN</th>\n",
       "      <th>Book-Rating</th>\n",
       "      <th>Book-Title</th>\n",
       "      <th>Book-Rating-Count</th>\n",
       "    </tr>\n",
       "  </thead>\n",
       "  <tbody>\n",
       "    <tr>\n",
       "      <th>39823</th>\n",
       "      <td>11676</td>\n",
       "      <td>0001944711</td>\n",
       "      <td>6</td>\n",
       "      <td>Count Duckula: Vampire Vacation</td>\n",
       "      <td>11144</td>\n",
       "    </tr>\n",
       "    <tr>\n",
       "      <th>39822</th>\n",
       "      <td>11676</td>\n",
       "      <td>0001941941</td>\n",
       "      <td>0</td>\n",
       "      <td>Little Grey Rabbit's Christmas (Collins Colour...</td>\n",
       "      <td>11144</td>\n",
       "    </tr>\n",
       "    <tr>\n",
       "      <th>39821</th>\n",
       "      <td>11676</td>\n",
       "      <td>0001900277</td>\n",
       "      <td>0</td>\n",
       "      <td>Glue (First Facts - First Skills)</td>\n",
       "      <td>11144</td>\n",
       "    </tr>\n",
       "    <tr>\n",
       "      <th>39820</th>\n",
       "      <td>11676</td>\n",
       "      <td>0001848445</td>\n",
       "      <td>0</td>\n",
       "      <td>THE COAL HOUSE T/PB</td>\n",
       "      <td>11144</td>\n",
       "    </tr>\n",
       "    <tr>\n",
       "      <th>39819</th>\n",
       "      <td>11676</td>\n",
       "      <td>0001841572</td>\n",
       "      <td>0</td>\n",
       "      <td>Red Shift</td>\n",
       "      <td>11144</td>\n",
       "    </tr>\n",
       "    <tr>\n",
       "      <th>...</th>\n",
       "      <td>...</td>\n",
       "      <td>...</td>\n",
       "      <td>...</td>\n",
       "      <td>...</td>\n",
       "      <td>...</td>\n",
       "    </tr>\n",
       "    <tr>\n",
       "      <th>523324</th>\n",
       "      <td>140915</td>\n",
       "      <td>0330266357</td>\n",
       "      <td>5</td>\n",
       "      <td>Ancestral Vices</td>\n",
       "      <td>1</td>\n",
       "    </tr>\n",
       "    <tr>\n",
       "      <th>523323</th>\n",
       "      <td>140909</td>\n",
       "      <td>0812508920</td>\n",
       "      <td>8</td>\n",
       "      <td>China Mountain Zhang</td>\n",
       "      <td>1</td>\n",
       "    </tr>\n",
       "    <tr>\n",
       "      <th>911801</th>\n",
       "      <td>243723</td>\n",
       "      <td>0425098400</td>\n",
       "      <td>8</td>\n",
       "      <td>Celestial Navigation</td>\n",
       "      <td>1</td>\n",
       "    </tr>\n",
       "    <tr>\n",
       "      <th>911918</th>\n",
       "      <td>243757</td>\n",
       "      <td>0802140505</td>\n",
       "      <td>8</td>\n",
       "      <td>The Everlasting Stream: A True Story of Rabbit...</td>\n",
       "      <td>1</td>\n",
       "    </tr>\n",
       "    <tr>\n",
       "      <th>911915</th>\n",
       "      <td>243747</td>\n",
       "      <td>3813501965</td>\n",
       "      <td>10</td>\n",
       "      <td>Allah muss nicht gerecht sein.</td>\n",
       "      <td>1</td>\n",
       "    </tr>\n",
       "  </tbody>\n",
       "</table>\n",
       "<p>1031136 rows × 5 columns</p>\n",
       "</div>"
      ],
      "text/plain": [
       "        User-ID        ISBN  Book-Rating  \\\n",
       "39823     11676  0001944711            6   \n",
       "39822     11676  0001941941            0   \n",
       "39821     11676  0001900277            0   \n",
       "39820     11676  0001848445            0   \n",
       "39819     11676  0001841572            0   \n",
       "...         ...         ...          ...   \n",
       "523324   140915  0330266357            5   \n",
       "523323   140909  0812508920            8   \n",
       "911801   243723  0425098400            8   \n",
       "911918   243757  0802140505            8   \n",
       "911915   243747  3813501965           10   \n",
       "\n",
       "                                               Book-Title  Book-Rating-Count  \n",
       "39823                     Count Duckula: Vampire Vacation              11144  \n",
       "39822   Little Grey Rabbit's Christmas (Collins Colour...              11144  \n",
       "39821                   Glue (First Facts - First Skills)              11144  \n",
       "39820                                 THE COAL HOUSE T/PB              11144  \n",
       "39819                                           Red Shift              11144  \n",
       "...                                                   ...                ...  \n",
       "523324                                    Ancestral Vices                  1  \n",
       "523323                               China Mountain Zhang                  1  \n",
       "911801                               Celestial Navigation                  1  \n",
       "911918  The Everlasting Stream: A True Story of Rabbit...                  1  \n",
       "911915                     Allah muss nicht gerecht sein.                  1  \n",
       "\n",
       "[1031136 rows x 5 columns]"
      ]
     },
     "execution_count": 31,
     "metadata": {},
     "output_type": "execute_result"
    }
   ],
   "source": [
    "df_sorted = rating_df.sort_values(by=\"Book-Rating-Count\", ascending=False)\n",
    "df_sorted"
   ]
  },
  {
   "cell_type": "markdown",
   "id": "893298ec-a73f-4e14-8fe9-791f0146699f",
   "metadata": {},
   "source": [
    "Now we have a count for every user, however the same user will still appear multiple times. We will need to fic this if we want only the top 200 users"
   ]
  },
  {
   "cell_type": "code",
   "execution_count": 32,
   "id": "ddc1011a-a990-4e3d-9822-36d0f4ca9385",
   "metadata": {},
   "outputs": [
    {
     "data": {
      "text/html": [
       "<div>\n",
       "<style scoped>\n",
       "    .dataframe tbody tr th:only-of-type {\n",
       "        vertical-align: middle;\n",
       "    }\n",
       "\n",
       "    .dataframe tbody tr th {\n",
       "        vertical-align: top;\n",
       "    }\n",
       "\n",
       "    .dataframe thead th {\n",
       "        text-align: right;\n",
       "    }\n",
       "</style>\n",
       "<table border=\"1\" class=\"dataframe\">\n",
       "  <thead>\n",
       "    <tr style=\"text-align: right;\">\n",
       "      <th></th>\n",
       "      <th>User-ID</th>\n",
       "      <th>ISBN</th>\n",
       "      <th>Book-Rating</th>\n",
       "      <th>Book-Title</th>\n",
       "      <th>Book-Rating-Count</th>\n",
       "    </tr>\n",
       "  </thead>\n",
       "  <tbody>\n",
       "    <tr>\n",
       "      <th>39823</th>\n",
       "      <td>11676</td>\n",
       "      <td>0001944711</td>\n",
       "      <td>6</td>\n",
       "      <td>Count Duckula: Vampire Vacation</td>\n",
       "      <td>11144</td>\n",
       "    </tr>\n",
       "    <tr>\n",
       "      <th>734566</th>\n",
       "      <td>198711</td>\n",
       "      <td>0671543180</td>\n",
       "      <td>0</td>\n",
       "      <td>DEAD MANS FOLLY (Hercule Poirot Mysteries (Pap...</td>\n",
       "      <td>6456</td>\n",
       "    </tr>\n",
       "    <tr>\n",
       "      <th>566200</th>\n",
       "      <td>153662</td>\n",
       "      <td>0060082895</td>\n",
       "      <td>0</td>\n",
       "      <td>Captured Innocence (Avon Romantic Treasure)</td>\n",
       "      <td>5814</td>\n",
       "    </tr>\n",
       "    <tr>\n",
       "      <th>364228</th>\n",
       "      <td>98391</td>\n",
       "      <td>0373750072</td>\n",
       "      <td>8</td>\n",
       "      <td>Predicting Rain (Harlequin American Romance, 1...</td>\n",
       "      <td>5779</td>\n",
       "    </tr>\n",
       "    <tr>\n",
       "      <th>145142</th>\n",
       "      <td>35859</td>\n",
       "      <td>1885171129</td>\n",
       "      <td>0</td>\n",
       "      <td>Calling the Midwest Home: A Lively Look at the...</td>\n",
       "      <td>5646</td>\n",
       "    </tr>\n",
       "    <tr>\n",
       "      <th>...</th>\n",
       "      <td>...</td>\n",
       "      <td>...</td>\n",
       "      <td>...</td>\n",
       "      <td>...</td>\n",
       "      <td>...</td>\n",
       "    </tr>\n",
       "    <tr>\n",
       "      <th>351009</th>\n",
       "      <td>94923</td>\n",
       "      <td>037541603X</td>\n",
       "      <td>0</td>\n",
       "      <td>Magic Terror</td>\n",
       "      <td>633</td>\n",
       "    </tr>\n",
       "    <tr>\n",
       "      <th>692770</th>\n",
       "      <td>187517</td>\n",
       "      <td>0060560754</td>\n",
       "      <td>7</td>\n",
       "      <td>The Dim Sum of All Things</td>\n",
       "      <td>631</td>\n",
       "    </tr>\n",
       "    <tr>\n",
       "      <th>982495</th>\n",
       "      <td>262998</td>\n",
       "      <td>0028603702</td>\n",
       "      <td>7</td>\n",
       "      <td>The High-Performance Cookbook: 150 High-Carb R...</td>\n",
       "      <td>630</td>\n",
       "    </tr>\n",
       "    <tr>\n",
       "      <th>484338</th>\n",
       "      <td>129716</td>\n",
       "      <td>0062509594</td>\n",
       "      <td>10</td>\n",
       "      <td>Essential Rumi</td>\n",
       "      <td>624</td>\n",
       "    </tr>\n",
       "    <tr>\n",
       "      <th>205551</th>\n",
       "      <td>53174</td>\n",
       "      <td>006000925X</td>\n",
       "      <td>0</td>\n",
       "      <td>Daisy's Back in Town</td>\n",
       "      <td>623</td>\n",
       "    </tr>\n",
       "  </tbody>\n",
       "</table>\n",
       "<p>200 rows × 5 columns</p>\n",
       "</div>"
      ],
      "text/plain": [
       "        User-ID        ISBN  Book-Rating  \\\n",
       "39823     11676  0001944711            6   \n",
       "734566   198711  0671543180            0   \n",
       "566200   153662  0060082895            0   \n",
       "364228    98391  0373750072            8   \n",
       "145142    35859  1885171129            0   \n",
       "...         ...         ...          ...   \n",
       "351009    94923  037541603X            0   \n",
       "692770   187517  0060560754            7   \n",
       "982495   262998  0028603702            7   \n",
       "484338   129716  0062509594           10   \n",
       "205551    53174  006000925X            0   \n",
       "\n",
       "                                               Book-Title  Book-Rating-Count  \n",
       "39823                     Count Duckula: Vampire Vacation              11144  \n",
       "734566  DEAD MANS FOLLY (Hercule Poirot Mysteries (Pap...               6456  \n",
       "566200        Captured Innocence (Avon Romantic Treasure)               5814  \n",
       "364228  Predicting Rain (Harlequin American Romance, 1...               5779  \n",
       "145142  Calling the Midwest Home: A Lively Look at the...               5646  \n",
       "...                                                   ...                ...  \n",
       "351009                                       Magic Terror                633  \n",
       "692770                          The Dim Sum of All Things                631  \n",
       "982495  The High-Performance Cookbook: 150 High-Carb R...                630  \n",
       "484338                                     Essential Rumi                624  \n",
       "205551                               Daisy's Back in Town                623  \n",
       "\n",
       "[200 rows x 5 columns]"
      ]
     },
     "execution_count": 32,
     "metadata": {},
     "output_type": "execute_result"
    }
   ],
   "source": [
    "# Now drop duplicate User-IDs, keeping only the first row per user\n",
    "filtered_rating = df_sorted.drop_duplicates(subset=\"User-ID\")\n",
    "filtered_rating = filtered_rating.head(200)\n",
    "filtered_rating"
   ]
  },
  {
   "cell_type": "code",
   "execution_count": 33,
   "id": "ba024f57-c7da-4ef4-b861-42d79944e330",
   "metadata": {},
   "outputs": [
    {
     "data": {
      "text/plain": [
       "np.int64(555570)"
      ]
     },
     "execution_count": 33,
     "metadata": {},
     "output_type": "execute_result"
    }
   ],
   "source": [
    "random_user = np.array(filtered_rating.sample(random_state = 13).index)[0]\n",
    "random_user"
   ]
  },
  {
   "cell_type": "code",
   "execution_count": 34,
   "id": "8c84a0d3-3d90-4cc5-b580-2f9747f5b03f",
   "metadata": {},
   "outputs": [
    {
     "data": {
      "text/html": [
       "<div>\n",
       "<style scoped>\n",
       "    .dataframe tbody tr th:only-of-type {\n",
       "        vertical-align: middle;\n",
       "    }\n",
       "\n",
       "    .dataframe tbody tr th {\n",
       "        vertical-align: top;\n",
       "    }\n",
       "\n",
       "    .dataframe thead th {\n",
       "        text-align: right;\n",
       "    }\n",
       "</style>\n",
       "<table border=\"1\" class=\"dataframe\">\n",
       "  <thead>\n",
       "    <tr style=\"text-align: right;\">\n",
       "      <th></th>\n",
       "      <th>User-ID</th>\n",
       "      <th>ISBN</th>\n",
       "      <th>Book-Rating</th>\n",
       "      <th>Book-Title</th>\n",
       "      <th>Book-Rating-Count</th>\n",
       "    </tr>\n",
       "  </thead>\n",
       "  <tbody>\n",
       "    <tr>\n",
       "      <th>555570</th>\n",
       "      <td>150124</td>\n",
       "      <td>0007612591</td>\n",
       "      <td>9</td>\n",
       "      <td>Detox for Health: The 7-Day Detox Program Comb...</td>\n",
       "      <td>675</td>\n",
       "    </tr>\n",
       "  </tbody>\n",
       "</table>\n",
       "</div>"
      ],
      "text/plain": [
       "        User-ID        ISBN  Book-Rating  \\\n",
       "555570   150124  0007612591            9   \n",
       "\n",
       "                                               Book-Title  Book-Rating-Count  \n",
       "555570  Detox for Health: The 7-Day Detox Program Comb...                675  "
      ]
     },
     "execution_count": 34,
     "metadata": {},
     "output_type": "execute_result"
    }
   ],
   "source": [
    "random_user_df = filtered_rating[filtered_rating.index == random_user]\n",
    "random_user_df"
   ]
  },
  {
   "cell_type": "code",
   "execution_count": 39,
   "id": "d502172e-7b0f-477d-8e1d-d774356c2460",
   "metadata": {},
   "outputs": [],
   "source": [
    "def user_based_recommender(input_user, user_book_df, num_recommendations=5):\n",
    "    # Creating a list of movies the input user have rated\n",
    "    input_user_df = user_book_df[user_book_df['User-ID'] == input_user]\n",
    "    input_user_books_rated = input_user_df.columns[input_user_df.notna().any()].tolist()\n",
    "\n",
    "    # Creating a dataframe with the user rating of the movies the input user have rated\n",
    "    books_rated_df = user_book_df[input_user_books_rated]\n",
    "\n",
    "    # Counting how many movies other users have rated that the input user have also rated\n",
    "    user_book_count = books_rated_df.T.notnull().sum()\n",
    "    user_book_count = books_rated_count.reset_index()\n",
    "    user_book_count.columns = [\"User-ID\", \"Book-Rating-Count\"]\n",
    "    \n",
    "    # Selecting similar users over based on a rating similarity count ratio threshold\n",
    "    user_same_books = user_book_count[user_book_count[\"book_count\"]] > (len(input_user_books_rated))[\"User-ID\"]\n",
    "\n",
    "    # Creating a correlation matrix based on ratings\n",
    "    final_df = books_rated_df[books_rated_df.index.isin(user_same_books)]\n",
    "    corr_df = final_df.T.corr()\n",
    "\n",
    "    # Created top correlated users\n",
    "    user_corr = corr_df[input_user].reset_index()\n",
    "    user_corr = user_corr.rename(columns={'index': 'User-ID', random_user: 'correlation'})\n",
    "    user_corr = user_corr.sort_values(by=\"correlation\", ascending=False)\n",
    "    user_corr = user_corr.loc[user_corr[\"User-ID\"] != input_user]\n",
    "    user_corr = user_corr.reset_index(drop=True)\n",
    "\n",
    "    # Creating correlated weighting of rating\n",
    "    top_users_ratings = user_corr.merge(ratings_df[[\"User-ID\", \"ISBN\", \"rating\"]], how=\"inner\")\n",
    "    top_users_ratings[\"weighted_rating\"] = top_users_ratings[\"correlation\"] * top_users_ratings[\"rating\"]\n",
    "\n",
    "    users_ratings[\"weighted_rating\"] = users_ratings[\"correlation\"] * users_ratings[\"Book-Rating\"]\n",
    "    users_ratings\n",
    "\n",
    "    # Creating a recommendation dataframe\n",
    "    recommendation_df = users_ratings.groupby(\"ISBN\").agg({\"weighted_rating\": \"mean\"}).sort_values(by = \"weighted_rating\", ascending = False)\n",
    "    recommendation_df = recommendation_df.reset_index()\n",
    "\n",
    "    # Creating the final recommendations\n",
    "    books_to_be_recommended = recommendation_df.merge(books_df[[\"ISBN\", \"Book-Title\"]], on=\"ISBN\")\n",
    "    books_to_be_recommended = books_to_be_recommended.head()\n",
    "\n",
    "    return books_to_be_recommended[\"Book-Title\"]"
   ]
  },
  {
   "cell_type": "code",
   "execution_count": 40,
   "id": "ff737b0f-7900-41fb-9f9c-05a88708f261",
   "metadata": {},
   "outputs": [
    {
     "ename": "NameError",
     "evalue": "name 'books_rated_count' is not defined",
     "output_type": "error",
     "traceback": [
      "\u001b[1;31m---------------------------------------------------------------------------\u001b[0m",
      "\u001b[1;31mNameError\u001b[0m                                 Traceback (most recent call last)",
      "Cell \u001b[1;32mIn[40], line 1\u001b[0m\n\u001b[1;32m----> 1\u001b[0m user_based_recommender(\u001b[38;5;124m'\u001b[39m\u001b[38;5;124m150124\u001b[39m\u001b[38;5;124m'\u001b[39m, ratings_df)\n",
      "Cell \u001b[1;32mIn[39], line 11\u001b[0m, in \u001b[0;36muser_based_recommender\u001b[1;34m(input_user, user_book_df, num_recommendations)\u001b[0m\n\u001b[0;32m      9\u001b[0m \u001b[38;5;66;03m# Counting how many movies other users have rated that the input user have also rated\u001b[39;00m\n\u001b[0;32m     10\u001b[0m user_book_count \u001b[38;5;241m=\u001b[39m books_rated_df\u001b[38;5;241m.\u001b[39mT\u001b[38;5;241m.\u001b[39mnotnull()\u001b[38;5;241m.\u001b[39msum()\n\u001b[1;32m---> 11\u001b[0m user_book_count \u001b[38;5;241m=\u001b[39m books_rated_count\u001b[38;5;241m.\u001b[39mreset_index()\n\u001b[0;32m     12\u001b[0m user_book_count\u001b[38;5;241m.\u001b[39mcolumns \u001b[38;5;241m=\u001b[39m [\u001b[38;5;124m\"\u001b[39m\u001b[38;5;124mUser-ID\u001b[39m\u001b[38;5;124m\"\u001b[39m, \u001b[38;5;124m\"\u001b[39m\u001b[38;5;124mBook-Rating-Count\u001b[39m\u001b[38;5;124m\"\u001b[39m]\n\u001b[0;32m     14\u001b[0m \u001b[38;5;66;03m# Selecting similar users over based on a rating similarity count ratio threshold\u001b[39;00m\n",
      "\u001b[1;31mNameError\u001b[0m: name 'books_rated_count' is not defined"
     ]
    }
   ],
   "source": [
    "user_based_recommender('150124', ratings_df)"
   ]
  },
  {
   "cell_type": "code",
   "execution_count": null,
   "id": "e0f49e91-60ab-481f-bb1f-f0685d66454a",
   "metadata": {},
   "outputs": [],
   "source": []
  }
 ],
 "metadata": {
  "kernelspec": {
   "display_name": "Python [conda env:base] *",
   "language": "python",
   "name": "conda-base-py"
  },
  "language_info": {
   "codemirror_mode": {
    "name": "ipython",
    "version": 3
   },
   "file_extension": ".py",
   "mimetype": "text/x-python",
   "name": "python",
   "nbconvert_exporter": "python",
   "pygments_lexer": "ipython3",
   "version": "3.12.7"
  }
 },
 "nbformat": 4,
 "nbformat_minor": 5
}
